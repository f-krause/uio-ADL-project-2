{
 "cells": [
  {
   "cell_type": "markdown",
   "id": "69be676e-9733-45f1-9b30-9d2c330367ad",
   "metadata": {
    "tags": []
   },
   "source": [
    "# Conditional VAE"
   ]
  },
  {
   "cell_type": "code",
   "execution_count": 1,
   "id": "490141ea-7e42-4c30-8284-e76646a12684",
   "metadata": {},
   "outputs": [],
   "source": [
    "%load_ext autoreload\n",
    "%autoreload 2\n",
    "%matplotlib inline"
   ]
  },
  {
   "cell_type": "code",
   "execution_count": 2,
   "id": "794e0878",
   "metadata": {},
   "outputs": [],
   "source": [
    "import torch\n",
    "import torch.nn as nn\n",
    "import torch.nn.functional as F\n",
    "import numpy as np\n",
    "import matplotlib.pyplot as plt\n",
    "\n",
    "from torchvision import transforms\n",
    "from torchvision.datasets import MNIST\n",
    "from torch.optim import Adam\n",
    "from torch.utils.data import DataLoader\n",
    "from torch import Tensor\n",
    "from tqdm import tqdm\n",
    "\n",
    "# Set the main device\n",
    "device = torch.device(\"cuda\" if torch.cuda.is_available() else \"cpu\")"
   ]
  },
  {
   "cell_type": "markdown",
   "id": "b4acefec-7cd1-427d-a81a-1b7f10ece3fe",
   "metadata": {},
   "source": [
    "## Load data"
   ]
  },
  {
   "cell_type": "code",
   "execution_count": 17,
   "id": "f43c399e-e1e4-4f3c-b595-4d1863f78543",
   "metadata": {},
   "outputs": [
    {
     "data": {
      "text/plain": [
       "torch.Size([1, 28, 28])"
      ]
     },
     "execution_count": 17,
     "metadata": {},
     "output_type": "execute_result"
    }
   ],
   "source": [
    "# CAR DATA\n",
    "# Load car data for project 2\n",
    "import torchvision\n",
    "from torchvision import transforms\n",
    "from PIL import Image\n",
    "import torch\n",
    "import numpy as np\n",
    "import litdata\n",
    "\n",
    "\n",
    "class ToRGBTensor:\n",
    "    \"\"\"Code from Mariuaas copied from Discourse\"\"\"\n",
    "    def __call__(self, img):\n",
    "        return transforms.functional.to_tensor(img).expand(3, -1, -1)  # Expand to 3 channels\n",
    "\n",
    "    def __repr__(self) -> str:\n",
    "        return f\"{self.__class__.__name__}()\"\n",
    "    \n",
    "    \n",
    "class GetMoiraLabel:\n",
    "    def __call__(self, tensor):\n",
    "        return int(tensor.squeeze()[1])\n",
    "\n",
    "    def __repr__(self) -> str:\n",
    "        return f\"{self.__class__.__name__}()\"\n",
    "\n",
    "\n",
    "def get_data(input_shape: list):\n",
    "    \"\"\"\n",
    "    Get train and test data loader based on educload .tar data\n",
    "    Code adapted from Mariuaas from Discourse\n",
    "    \"\"\"\n",
    "    # Define data path\n",
    "    DATA_PATH = '/projects/ec232/data/'\n",
    "\n",
    "    # Define mean and std from ImageNet data\n",
    "    IN_MEAN = [0.485, 0.456, 0.406]\n",
    "    IN_STD = [0.229, 0.224, 0.225]\n",
    "\n",
    "    # Define postprocessing / transform of data modalities\n",
    "    postprocess = (  # Create tuple for image and class...\n",
    "        transforms.Compose([  # Handles processing of the .jpg image\n",
    "            ToRGBTensor(),  # Convert from PIL image to RGB torch.Tensor\n",
    "            transforms.Grayscale(num_output_channels=input_shape[2]),\n",
    "            transforms.Resize(input_shape[:2]),  # Resize images\n",
    "            #transforms.Normalize(IN_MEAN, IN_STD),  # Normalize image to correct mean/std\n",
    "            #transforms.Normalize(0.5, 0.5),\n",
    "            \n",
    "        ]),\n",
    "        transforms.Compose([  # Handles processing of the .jpg image\n",
    "            transforms.ToTensor(), # Convert .scores.npy file to tensor\n",
    "            GetMoiraLabel(),\n",
    "        ])\n",
    "    )\n",
    "\n",
    "    # Load data\n",
    "    data = litdata.LITDataset(\n",
    "        \"CarRecs\",\n",
    "        DATA_PATH,\n",
    "        override_extensions=[\"jpg\", \"scores.npy\"],  # first load image, then scores\n",
    "    ).map_tuple(*postprocess)\n",
    "\n",
    "    return data\n",
    "\n",
    "N_CHANNELS = 1\n",
    "#INPUT_SHAPE = [96, 96, N_CHANNELS]\n",
    "INPUT_SHAPE = [28, 28, N_CHANNELS]\n",
    "# INPUT_SHAPE = [96, 128, N_CHANNELS]\n",
    "batch_size = 64 * 4\n",
    "\n",
    "ORIGINAL = False\n",
    "train_set = get_data(INPUT_SHAPE)\n",
    "\n",
    "# Create data loader\n",
    "train_loader = DataLoader(train_set, shuffle=True, batch_size=batch_size)\n",
    "train_set[0][0].size()"
   ]
  },
  {
   "cell_type": "code",
   "execution_count": 18,
   "id": "89e40ab4-abcb-4155-94d8-441d44d831f1",
   "metadata": {},
   "outputs": [],
   "source": [
    "ORIGINAL = True"
   ]
  },
  {
   "cell_type": "code",
   "execution_count": 390,
   "id": "25ee353d-2c88-4727-9407-ca7a93219bda",
   "metadata": {
    "collapsed": true,
    "jupyter": {
     "outputs_hidden": true
    },
    "tags": []
   },
   "outputs": [
    {
     "data": {
      "text/plain": [
       "tensor([[[0.0000, 0.0000, 0.0000, 0.0000, 0.0000, 0.0000, 0.0000, 0.0000,\n",
       "          0.0000, 0.0000, 0.0000, 0.0000, 0.0000, 0.0000, 0.0000, 0.0000,\n",
       "          0.0000, 0.0000, 0.0000, 0.0000, 0.0000, 0.0000, 0.0000, 0.0000,\n",
       "          0.0000, 0.0000, 0.0000, 0.0000],\n",
       "         [0.0000, 0.0000, 0.0000, 0.0000, 0.0000, 0.0000, 0.0000, 0.0000,\n",
       "          0.0000, 0.0000, 0.0000, 0.0000, 0.0000, 0.0000, 0.0000, 0.0000,\n",
       "          0.0000, 0.0000, 0.0000, 0.0000, 0.0000, 0.0000, 0.0000, 0.0000,\n",
       "          0.0000, 0.0000, 0.0000, 0.0000],\n",
       "         [0.0000, 0.0000, 0.0000, 0.0000, 0.0000, 0.0000, 0.0000, 0.0000,\n",
       "          0.0000, 0.0000, 0.0000, 0.0000, 0.0000, 0.0000, 0.0000, 0.0000,\n",
       "          0.0000, 0.0000, 0.0000, 0.0000, 0.0000, 0.0000, 0.0000, 0.0000,\n",
       "          0.0000, 0.0000, 0.0000, 0.0000],\n",
       "         [0.0000, 0.0000, 0.0000, 0.0000, 0.0000, 0.0000, 0.0000, 0.0000,\n",
       "          0.0000, 0.0000, 0.0000, 0.0000, 0.0000, 0.0000, 0.0000, 0.0000,\n",
       "          0.0000, 0.0000, 0.0000, 0.0000, 0.0000, 0.0000, 0.0000, 0.0000,\n",
       "          0.0000, 0.0000, 0.0000, 0.0000],\n",
       "         [0.0000, 0.0000, 0.0000, 0.0000, 0.0000, 0.0000, 0.0000, 0.0000,\n",
       "          0.0000, 0.0000, 0.0000, 0.0000, 0.0000, 0.0000, 0.0000, 0.0000,\n",
       "          0.0000, 0.0000, 0.0000, 0.0000, 0.0000, 0.0000, 0.0000, 0.0000,\n",
       "          0.0000, 0.0000, 0.0000, 0.0000],\n",
       "         [0.0000, 0.0000, 0.0000, 0.0000, 0.0000, 0.0000, 0.0000, 0.0000,\n",
       "          0.0000, 0.0000, 0.0000, 0.0000, 0.0118, 0.0706, 0.0706, 0.0706,\n",
       "          0.4941, 0.5333, 0.6863, 0.1020, 0.6510, 1.0000, 0.9686, 0.4980,\n",
       "          0.0000, 0.0000, 0.0000, 0.0000],\n",
       "         [0.0000, 0.0000, 0.0000, 0.0000, 0.0000, 0.0000, 0.0000, 0.0000,\n",
       "          0.1176, 0.1412, 0.3686, 0.6039, 0.6667, 0.9922, 0.9922, 0.9922,\n",
       "          0.9922, 0.9922, 0.8824, 0.6745, 0.9922, 0.9490, 0.7647, 0.2510,\n",
       "          0.0000, 0.0000, 0.0000, 0.0000],\n",
       "         [0.0000, 0.0000, 0.0000, 0.0000, 0.0000, 0.0000, 0.0000, 0.1922,\n",
       "          0.9333, 0.9922, 0.9922, 0.9922, 0.9922, 0.9922, 0.9922, 0.9922,\n",
       "          0.9922, 0.9843, 0.3647, 0.3216, 0.3216, 0.2196, 0.1529, 0.0000,\n",
       "          0.0000, 0.0000, 0.0000, 0.0000],\n",
       "         [0.0000, 0.0000, 0.0000, 0.0000, 0.0000, 0.0000, 0.0000, 0.0706,\n",
       "          0.8588, 0.9922, 0.9922, 0.9922, 0.9922, 0.9922, 0.7765, 0.7137,\n",
       "          0.9686, 0.9451, 0.0000, 0.0000, 0.0000, 0.0000, 0.0000, 0.0000,\n",
       "          0.0000, 0.0000, 0.0000, 0.0000],\n",
       "         [0.0000, 0.0000, 0.0000, 0.0000, 0.0000, 0.0000, 0.0000, 0.0000,\n",
       "          0.3137, 0.6118, 0.4196, 0.9922, 0.9922, 0.8039, 0.0431, 0.0000,\n",
       "          0.1686, 0.6039, 0.0000, 0.0000, 0.0000, 0.0000, 0.0000, 0.0000,\n",
       "          0.0000, 0.0000, 0.0000, 0.0000],\n",
       "         [0.0000, 0.0000, 0.0000, 0.0000, 0.0000, 0.0000, 0.0000, 0.0000,\n",
       "          0.0000, 0.0549, 0.0039, 0.6039, 0.9922, 0.3529, 0.0000, 0.0000,\n",
       "          0.0000, 0.0000, 0.0000, 0.0000, 0.0000, 0.0000, 0.0000, 0.0000,\n",
       "          0.0000, 0.0000, 0.0000, 0.0000],\n",
       "         [0.0000, 0.0000, 0.0000, 0.0000, 0.0000, 0.0000, 0.0000, 0.0000,\n",
       "          0.0000, 0.0000, 0.0000, 0.5451, 0.9922, 0.7451, 0.0078, 0.0000,\n",
       "          0.0000, 0.0000, 0.0000, 0.0000, 0.0000, 0.0000, 0.0000, 0.0000,\n",
       "          0.0000, 0.0000, 0.0000, 0.0000],\n",
       "         [0.0000, 0.0000, 0.0000, 0.0000, 0.0000, 0.0000, 0.0000, 0.0000,\n",
       "          0.0000, 0.0000, 0.0000, 0.0431, 0.7451, 0.9922, 0.2745, 0.0000,\n",
       "          0.0000, 0.0000, 0.0000, 0.0000, 0.0000, 0.0000, 0.0000, 0.0000,\n",
       "          0.0000, 0.0000, 0.0000, 0.0000],\n",
       "         [0.0000, 0.0000, 0.0000, 0.0000, 0.0000, 0.0000, 0.0000, 0.0000,\n",
       "          0.0000, 0.0000, 0.0000, 0.0000, 0.1373, 0.9451, 0.8824, 0.6275,\n",
       "          0.4235, 0.0039, 0.0000, 0.0000, 0.0000, 0.0000, 0.0000, 0.0000,\n",
       "          0.0000, 0.0000, 0.0000, 0.0000],\n",
       "         [0.0000, 0.0000, 0.0000, 0.0000, 0.0000, 0.0000, 0.0000, 0.0000,\n",
       "          0.0000, 0.0000, 0.0000, 0.0000, 0.0000, 0.3176, 0.9412, 0.9922,\n",
       "          0.9922, 0.4667, 0.0980, 0.0000, 0.0000, 0.0000, 0.0000, 0.0000,\n",
       "          0.0000, 0.0000, 0.0000, 0.0000],\n",
       "         [0.0000, 0.0000, 0.0000, 0.0000, 0.0000, 0.0000, 0.0000, 0.0000,\n",
       "          0.0000, 0.0000, 0.0000, 0.0000, 0.0000, 0.0000, 0.1765, 0.7294,\n",
       "          0.9922, 0.9922, 0.5882, 0.1059, 0.0000, 0.0000, 0.0000, 0.0000,\n",
       "          0.0000, 0.0000, 0.0000, 0.0000],\n",
       "         [0.0000, 0.0000, 0.0000, 0.0000, 0.0000, 0.0000, 0.0000, 0.0000,\n",
       "          0.0000, 0.0000, 0.0000, 0.0000, 0.0000, 0.0000, 0.0000, 0.0627,\n",
       "          0.3647, 0.9882, 0.9922, 0.7333, 0.0000, 0.0000, 0.0000, 0.0000,\n",
       "          0.0000, 0.0000, 0.0000, 0.0000],\n",
       "         [0.0000, 0.0000, 0.0000, 0.0000, 0.0000, 0.0000, 0.0000, 0.0000,\n",
       "          0.0000, 0.0000, 0.0000, 0.0000, 0.0000, 0.0000, 0.0000, 0.0000,\n",
       "          0.0000, 0.9765, 0.9922, 0.9765, 0.2510, 0.0000, 0.0000, 0.0000,\n",
       "          0.0000, 0.0000, 0.0000, 0.0000],\n",
       "         [0.0000, 0.0000, 0.0000, 0.0000, 0.0000, 0.0000, 0.0000, 0.0000,\n",
       "          0.0000, 0.0000, 0.0000, 0.0000, 0.0000, 0.0000, 0.1804, 0.5098,\n",
       "          0.7176, 0.9922, 0.9922, 0.8118, 0.0078, 0.0000, 0.0000, 0.0000,\n",
       "          0.0000, 0.0000, 0.0000, 0.0000],\n",
       "         [0.0000, 0.0000, 0.0000, 0.0000, 0.0000, 0.0000, 0.0000, 0.0000,\n",
       "          0.0000, 0.0000, 0.0000, 0.0000, 0.1529, 0.5804, 0.8980, 0.9922,\n",
       "          0.9922, 0.9922, 0.9804, 0.7137, 0.0000, 0.0000, 0.0000, 0.0000,\n",
       "          0.0000, 0.0000, 0.0000, 0.0000],\n",
       "         [0.0000, 0.0000, 0.0000, 0.0000, 0.0000, 0.0000, 0.0000, 0.0000,\n",
       "          0.0000, 0.0000, 0.0941, 0.4471, 0.8667, 0.9922, 0.9922, 0.9922,\n",
       "          0.9922, 0.7882, 0.3059, 0.0000, 0.0000, 0.0000, 0.0000, 0.0000,\n",
       "          0.0000, 0.0000, 0.0000, 0.0000],\n",
       "         [0.0000, 0.0000, 0.0000, 0.0000, 0.0000, 0.0000, 0.0000, 0.0000,\n",
       "          0.0902, 0.2588, 0.8353, 0.9922, 0.9922, 0.9922, 0.9922, 0.7765,\n",
       "          0.3176, 0.0078, 0.0000, 0.0000, 0.0000, 0.0000, 0.0000, 0.0000,\n",
       "          0.0000, 0.0000, 0.0000, 0.0000],\n",
       "         [0.0000, 0.0000, 0.0000, 0.0000, 0.0000, 0.0000, 0.0706, 0.6706,\n",
       "          0.8588, 0.9922, 0.9922, 0.9922, 0.9922, 0.7647, 0.3137, 0.0353,\n",
       "          0.0000, 0.0000, 0.0000, 0.0000, 0.0000, 0.0000, 0.0000, 0.0000,\n",
       "          0.0000, 0.0000, 0.0000, 0.0000],\n",
       "         [0.0000, 0.0000, 0.0000, 0.0000, 0.2157, 0.6745, 0.8863, 0.9922,\n",
       "          0.9922, 0.9922, 0.9922, 0.9569, 0.5216, 0.0431, 0.0000, 0.0000,\n",
       "          0.0000, 0.0000, 0.0000, 0.0000, 0.0000, 0.0000, 0.0000, 0.0000,\n",
       "          0.0000, 0.0000, 0.0000, 0.0000],\n",
       "         [0.0000, 0.0000, 0.0000, 0.0000, 0.5333, 0.9922, 0.9922, 0.9922,\n",
       "          0.8314, 0.5294, 0.5176, 0.0627, 0.0000, 0.0000, 0.0000, 0.0000,\n",
       "          0.0000, 0.0000, 0.0000, 0.0000, 0.0000, 0.0000, 0.0000, 0.0000,\n",
       "          0.0000, 0.0000, 0.0000, 0.0000],\n",
       "         [0.0000, 0.0000, 0.0000, 0.0000, 0.0000, 0.0000, 0.0000, 0.0000,\n",
       "          0.0000, 0.0000, 0.0000, 0.0000, 0.0000, 0.0000, 0.0000, 0.0000,\n",
       "          0.0000, 0.0000, 0.0000, 0.0000, 0.0000, 0.0000, 0.0000, 0.0000,\n",
       "          0.0000, 0.0000, 0.0000, 0.0000],\n",
       "         [0.0000, 0.0000, 0.0000, 0.0000, 0.0000, 0.0000, 0.0000, 0.0000,\n",
       "          0.0000, 0.0000, 0.0000, 0.0000, 0.0000, 0.0000, 0.0000, 0.0000,\n",
       "          0.0000, 0.0000, 0.0000, 0.0000, 0.0000, 0.0000, 0.0000, 0.0000,\n",
       "          0.0000, 0.0000, 0.0000, 0.0000],\n",
       "         [0.0000, 0.0000, 0.0000, 0.0000, 0.0000, 0.0000, 0.0000, 0.0000,\n",
       "          0.0000, 0.0000, 0.0000, 0.0000, 0.0000, 0.0000, 0.0000, 0.0000,\n",
       "          0.0000, 0.0000, 0.0000, 0.0000, 0.0000, 0.0000, 0.0000, 0.0000,\n",
       "          0.0000, 0.0000, 0.0000, 0.0000]]])"
      ]
     },
     "execution_count": 390,
     "metadata": {},
     "output_type": "execute_result"
    }
   ],
   "source": [
    "train_set[0][0]"
   ]
  },
  {
   "cell_type": "code",
   "execution_count": 391,
   "id": "898ad3aa-952f-4945-9f2a-5e9c7e124391",
   "metadata": {},
   "outputs": [
    {
     "data": {
      "text/plain": [
       "torch.Size([1, 28, 28])"
      ]
     },
     "execution_count": 391,
     "metadata": {},
     "output_type": "execute_result"
    }
   ],
   "source": [
    "# MNIST DATA\n",
    "# Choose the path where you will/have already saved the MNIST dataset\n",
    "data_dir = '/fp/projects01/ec232/data'\n",
    "\n",
    "# Get dataset\n",
    "ORIGINAL = True\n",
    "batch_size = 64 * 4\n",
    "INPUT_SHAPE = [28, 28, 1]\n",
    "N_CHANNELS = 1\n",
    "transform = transforms.ToTensor()\n",
    "train_set = MNIST(root=data_dir, train=True, download=True, transform=transform)\n",
    "N = len(train_set)\n",
    "\n",
    "# Create data loader\n",
    "train_loader = DataLoader(train_set, shuffle=True, batch_size=batch_size)\n",
    "train_set[0][0].size()"
   ]
  },
  {
   "cell_type": "code",
   "execution_count": null,
   "id": "bb18312b-70b6-47cc-9d85-2c2221a45d64",
   "metadata": {},
   "outputs": [],
   "source": []
  },
  {
   "cell_type": "markdown",
   "id": "3ff9b0ad-f1d1-433d-bb05-2ac9be72e554",
   "metadata": {},
   "source": [
    "## Helper functions"
   ]
  },
  {
   "cell_type": "code",
   "execution_count": 4,
   "id": "4445f380-bb12-4074-835f-2fb6c425a901",
   "metadata": {},
   "outputs": [],
   "source": [
    "def reparameterize_gaussian(mean, std):\n",
    "    \"\"\"\n",
    "    Inputs:\n",
    "        mean : [torch.tensor] Mean vector. Shape: batch_size x z_dim.\n",
    "        std  : [torch.tensor] Standard deviation vection. Shape: batch_size x z_dim.\n",
    "    \n",
    "    Output:\n",
    "        z    : [torch.tensor] z sampled from the Normal distribution with mean and standard deviation given by the inputs. \n",
    "                              Shape: batch_size x z_dim.\n",
    "    \"\"\"\n",
    "\n",
    "    # Sample epsilon from N(0,I)\n",
    "    eps = torch.randn_like(std)\n",
    "\n",
    "    # Calculate z using reparameterization trick\n",
    "    z = mean + std*eps\n",
    "\n",
    "    return z"
   ]
  },
  {
   "cell_type": "code",
   "execution_count": 5,
   "id": "101f191e-7cc3-440f-b081-fb7595dfdf8a",
   "metadata": {},
   "outputs": [],
   "source": [
    "def get_vae_loss(x, x_hat, mean, logvar):\n",
    "    \"\"\"\n",
    "    Inputs:\n",
    "        x       : [torch.tensor] Original sample\n",
    "        x_hat   : [torch.tensor] Reproduced sample\n",
    "        mean    : [torch.tensor] Mean mu of the variational posterior given sample x\n",
    "        logvar  : [torch.tensor] log of the variance sigma^2 of the variational posterior given sample x\n",
    "    \"\"\"\n",
    "\n",
    "    # Recontruction loss\n",
    "    reconstruction_loss = ((x - x_hat)**2).sum()\n",
    "    #print(\"RL\", reconstruction_loss)\n",
    "    \n",
    "    # KL divergence\n",
    "    KL_divergence = -0.5 * torch.sum(1 + logvar - mean.pow(2) - logvar.exp())\n",
    "    #print(\"KL\", KL_divergence)\n",
    "    \n",
    "    # Get the total loss\n",
    "    kl_weight = 1\n",
    "    loss = reconstruction_loss + KL_divergence * kl_weight\n",
    "\n",
    "    return loss / 10"
   ]
  },
  {
   "cell_type": "code",
   "execution_count": 8,
   "id": "8820201d-d232-462c-aab9-b23927c8cbd5",
   "metadata": {},
   "outputs": [],
   "source": [
    "class ResidualLayer(nn.Module):\n",
    "    def __init__(self,\n",
    "                 in_channels: int,\n",
    "                 out_channels: int):\n",
    "        super(ResidualLayer, self).__init__()\n",
    "        self.resblock = nn.Sequential(nn.Conv2d(in_channels, out_channels,\n",
    "                                                kernel_size=3, padding=1, bias=False),\n",
    "                                      nn.ReLU(True),\n",
    "                                      nn.Conv2d(out_channels, out_channels,\n",
    "                                                kernel_size=1, bias=False))\n",
    "\n",
    "    def forward(self, input: Tensor) -> Tensor:\n",
    "        return input + self.resblock(input)"
   ]
  },
  {
   "cell_type": "markdown",
   "id": "1280e232-deba-422e-b76a-e8d9705b4d0b",
   "metadata": {},
   "source": [
    "# cVAE"
   ]
  },
  {
   "cell_type": "code",
   "execution_count": 23,
   "id": "e6b957db-cf91-492a-822c-dfa1c2392e4e",
   "metadata": {},
   "outputs": [],
   "source": [
    "class CEncoder(nn.Module):\n",
    "    \"\"\" Convolutional encoder for the CVAE. \"\"\"\n",
    "\n",
    "    def __init__(self, z_dim, n_classes, n_channels):\n",
    "        super().__init__()\n",
    "\n",
    "        feature_dim = 32 * 23 * 31\n",
    "        if ORIGINAL: feature_dim = 32 * 6 * 6  # TODO HOW DO I ARRIVE AT THESE NUMBERS?\n",
    "        self.conv1 = nn.Conv2d(n_channels + 1, 64, kernel_size=3, stride=2)\n",
    "        self.conv2 = nn.Conv2d(64, 32, kernel_size=3, stride=2)\n",
    "        self.mean_fc = nn.Linear(feature_dim, z_dim)\n",
    "        self.logvar_fc = nn.Linear(feature_dim, z_dim)\n",
    "        self.cls_token_fc = nn.Linear(feature_dim, n_classes)\n",
    "\n",
    "    def forward(self, x):\n",
    "        #x = torch.flatten(x)\n",
    "        #print(\"forward encoder:\", x.size())\n",
    "        x = F.relu(self.conv1(x))\n",
    "        x = F.relu(self.conv2(x))\n",
    "        #print(x.size())  # [64, 32, 23, 31]  # [64, 32, 6, 6]\n",
    "        x = x.flatten(1)\n",
    "        \n",
    "        # TODO also try out other priors\n",
    "        mean = self.mean_fc(x)\n",
    "        logvar = self.logvar_fc(x)\n",
    "        cls_token = self.cls_token_fc(x)\n",
    "\n",
    "        return mean, logvar, cls_token"
   ]
  },
  {
   "cell_type": "code",
   "execution_count": 24,
   "id": "9a14368b-90ab-4164-8b98-6fdcc92f876a",
   "metadata": {},
   "outputs": [],
   "source": [
    "class CDecoder(nn.Module):\n",
    "    \"\"\" Convolutional decoder for the CVAE. \"\"\"\n",
    "\n",
    "    def __init__(self, z_dim, n_classes, n_channels):\n",
    "        super().__init__()\n",
    "        \n",
    "        feature_dim = 32 * 23 * 31\n",
    "        if ORIGINAL: feature_dim = 32 * 6 * 6\n",
    "        self.fc = nn.Linear(z_dim + n_classes, feature_dim)\n",
    "        self.conv2 = nn.ConvTranspose2d(32, 64, kernel_size=3, stride=2)\n",
    "        self.conv1 = nn.ConvTranspose2d(64, n_channels, kernel_size=3, stride=2, output_padding=1)\n",
    "\n",
    "    def forward(self, z):\n",
    "        # print(\"dec z.size()\", z.size())\n",
    "        x = F.relu(self.fc(z))\n",
    "        if ORIGINAL: x = x.view(-1, 32, 6, 6) \n",
    "        else: x = x.view(-1, 32, 23, 31)\n",
    "        x = F.relu(self.conv2(x))\n",
    "        x = self.conv1(x)\n",
    "        x = torch.sigmoid(x)\n",
    "        \n",
    "        return x"
   ]
  },
  {
   "cell_type": "markdown",
   "id": "4d16aee1-2f2c-48fb-9ffe-09da117acc0e",
   "metadata": {},
   "source": [
    "## Extended cVAE"
   ]
  },
  {
   "cell_type": "code",
   "execution_count": 43,
   "id": "7c8bf0b4-e150-415e-b5d1-77c23a04f646",
   "metadata": {},
   "outputs": [],
   "source": [
    "class CEncoder(nn.Module):\n",
    "    \"\"\" Convolutional encoder for the CVAE. \"\"\"\n",
    "\n",
    "    def __init__(self, z_dim, n_classes, n_channels, hidden_dims=None):\n",
    "        super().__init__()\n",
    "\n",
    "        in_channels = n_channels + 1\n",
    "                \n",
    "        if hidden_dims is None:\n",
    "            hidden_dims = [32, 64, 128, 256, 512]\n",
    "            #hidden_dims = [32, 128, 512]\n",
    "\n",
    "        modules = []\n",
    "        for h_dim in hidden_dims:\n",
    "            modules.append(\n",
    "                nn.Sequential(\n",
    "                    nn.Conv2d(in_channels, out_channels=h_dim,\n",
    "                              kernel_size=3, stride=2, padding=1),\n",
    "                    nn.BatchNorm2d(h_dim),\n",
    "                    nn.LeakyReLU())\n",
    "            )\n",
    "            in_channels = h_dim\n",
    "        \n",
    "        self.encoder = nn.Sequential(*modules)\n",
    "        \n",
    "        feature_dim = 512 * 3 * 3\n",
    "        if ORIGINAL: feature_dim = 512 * 1 * 1\n",
    "        self.mean_fc = nn.Linear(feature_dim, z_dim)\n",
    "        self.logvar_fc = nn.Linear(feature_dim, z_dim)\n",
    "        self.cls_token_fc = nn.Linear(feature_dim, n_classes)\n",
    "\n",
    "    def forward(self, x):\n",
    "        x = self.encoder(x)\n",
    "        #print(\"!!! feature_dim:\", x.size())  # [64, 32, 23, 31]  # [64, 32, 6, 6]\n",
    "        x = x.flatten(1)\n",
    "        \n",
    "        # TODO also try out other priors\n",
    "        mean = self.mean_fc(x)\n",
    "        logvar = self.logvar_fc(x)\n",
    "        cls_token = self.cls_token_fc(x)\n",
    "\n",
    "        return mean, logvar, cls_token"
   ]
  },
  {
   "cell_type": "code",
   "execution_count": 44,
   "id": "341f986c-602f-45bb-ac52-35d6dd83decd",
   "metadata": {},
   "outputs": [],
   "source": [
    "class CDecoder(nn.Module):\n",
    "    \"\"\" Convolutional decoder for the CVAE. \"\"\"\n",
    "\n",
    "    def __init__(self, z_dim, n_classes, n_channels, hidden_dims=None):\n",
    "        super().__init__()\n",
    "        \n",
    "        feature_dim = 512 * 3 * 3\n",
    "        if ORIGINAL: feature_dim = 512 * 1 * 1\n",
    "        self.fc = nn.Linear(z_dim + n_classes, feature_dim)\n",
    "        \n",
    "        if hidden_dims is None:\n",
    "            hidden_dims = [32, 64, 128, 256, 512]\n",
    "            #hidden_dims = [32, 128, 512]\n",
    "        hidden_dims.reverse()\n",
    "        \n",
    "        padding_last_layer = 1\n",
    "        if ORIGINAL: padding_last_layer = 3\n",
    "        modules = []\n",
    "        for i in range(len(hidden_dims) - 1):\n",
    "            modules.append(\n",
    "                nn.Sequential(\n",
    "                    nn.ConvTranspose2d(hidden_dims[i],\n",
    "                                       hidden_dims[i + 1],\n",
    "                                       kernel_size=3,\n",
    "                                       stride=2,\n",
    "                                       padding=1,\n",
    "                                       output_padding=1),\n",
    "                    nn.BatchNorm2d(hidden_dims[i + 1]),\n",
    "                    nn.LeakyReLU())\n",
    "            )\n",
    "        self.decoder = nn.Sequential(*modules)       \n",
    "        \n",
    "        self.final_layer = nn.Sequential(\n",
    "                    nn.ConvTranspose2d(hidden_dims[-1],\n",
    "                                       hidden_dims[-1],\n",
    "                                       kernel_size=3,\n",
    "                                       stride=2,\n",
    "                                       padding=1,\n",
    "                                       output_padding=1),\n",
    "                    nn.BatchNorm2d(hidden_dims[-1]),\n",
    "                    nn.LeakyReLU(),\n",
    "                    nn.ConvTranspose2d(hidden_dims[-1], \n",
    "                              out_channels=n_channels,\n",
    "                              kernel_size=3, \n",
    "                              padding=padding_last_layer),\n",
    "                    nn.Tanh())\n",
    "\n",
    "    def forward(self, z):\n",
    "        x = self.fc(z)\n",
    "        if ORIGINAL:  x = x.view(-1, 512, 1, 1)\n",
    "        else: x = x.view(-1, 512, 3, 3)\n",
    "        x = self.decoder(x)\n",
    "        # print(\"after decoder:\", x.size())\n",
    "        x = self.final_layer(x)\n",
    "        # print(\"after final_layer:\", x.size())\n",
    "        \n",
    "        return x"
   ]
  },
  {
   "cell_type": "markdown",
   "id": "a9c279a2-4bbe-4036-a79f-8e1bef78f4eb",
   "metadata": {},
   "source": [
    "## Declare cVAE"
   ]
  },
  {
   "cell_type": "code",
   "execution_count": 45,
   "id": "a0689a96",
   "metadata": {},
   "outputs": [],
   "source": [
    "class CVAE(nn.Module):\n",
    "    \"\"\" Conditional Variational Auto-Encoder class. \"\"\"\n",
    "\n",
    "    def __init__(self, z_dim, n_classes, n_channels=1, img_size=[28,28]):\n",
    "        super().__init__()\n",
    "        self.z_dim = z_dim\n",
    "        self.n_classes = n_classes\n",
    "        self.n_channels = n_channels\n",
    "        self.img_size = img_size\n",
    "\n",
    "        self.encoder = CEncoder(z_dim, n_classes, n_channels)\n",
    "        self.decoder = CDecoder(z_dim, n_classes, n_channels)\n",
    "\n",
    "        # Add learnable class token\n",
    "        self.cls_param = nn.Parameter(torch.zeros(n_classes, *img_size))\n",
    "\n",
    "    def get_cls_emb(self, c):\n",
    "        return self.cls_param[c].unsqueeze(1)\n",
    "\n",
    "    def forward(self, x, c):\n",
    "        \"\"\"\n",
    "        Args:\n",
    "            x   : [torch.Tensor] Image input of shape [batch_size, n_channels, *img_size]\n",
    "            c   : [torch.Tensor] Class labels for x of shape [batch_size], where the class in indicated by a\n",
    "        \"\"\"\n",
    "\n",
    "        # Get cls embedding\n",
    "        cls_emb = self.get_cls_emb(c)\n",
    "\n",
    "        # Concatenate cls embedding to the input\n",
    "        #print(\"x.size() =\", x.size())\n",
    "        #print(\"cls_emb.size() =\", cls_emb.size())\n",
    "        x = torch.cat((x, cls_emb), dim=1)\n",
    "\n",
    "        # Get the mean, logvar, and cls token from the encoder\n",
    "        mean, logvar, cls_token = self.encoder(x)\n",
    "\n",
    "        # Calculate the standard deviation. Note: in log-space, squareroot is divide by two\n",
    "        std = torch.exp(logvar / 2)\n",
    "\n",
    "        # Sample the latent using the reparameterization trick\n",
    "        z = reparameterize_gaussian(mean, std)\n",
    "        # print(\"######\")\n",
    "        # print(\"z.size() =\", z.size())\n",
    "        \n",
    "        # Concatenate cls token to z\n",
    "        z = torch.cat((z, F.softmax(cls_token, dim=1)), dim=1)\n",
    "        \n",
    "        # Get reconstructed x from the decoder\n",
    "        x_hat = self.decoder(z)\n",
    "        \n",
    "        return x, x_hat, mean, logvar, cls_token"
   ]
  },
  {
   "cell_type": "markdown",
   "id": "7187b3b5-7dcb-4cec-badf-05eb02b80725",
   "metadata": {},
   "source": [
    "## Train model"
   ]
  },
  {
   "cell_type": "code",
   "execution_count": 55,
   "id": "68a71bd1",
   "metadata": {
    "tags": []
   },
   "outputs": [
    {
     "name": "stderr",
     "output_type": "stream",
     "text": [
      "Epoch [1/25]: 100%|██████████| 24/24 [00:23<00:00,  1.00it/s, loss=30.1]\n"
     ]
    },
    {
     "name": "stdout",
     "output_type": "stream",
     "text": [
      "Total loss: 722.8829916780815\n"
     ]
    },
    {
     "name": "stderr",
     "output_type": "stream",
     "text": [
      "Epoch [2/25]: 100%|██████████| 24/24 [00:23<00:00,  1.01it/s, loss=28.3]\n"
     ]
    },
    {
     "name": "stdout",
     "output_type": "stream",
     "text": [
      "Total loss: 680.079500053211\n"
     ]
    },
    {
     "name": "stderr",
     "output_type": "stream",
     "text": [
      "Epoch [3/25]: 100%|██████████| 24/24 [00:23<00:00,  1.01it/s, loss=25.1]\n"
     ]
    },
    {
     "name": "stdout",
     "output_type": "stream",
     "text": [
      "Total loss: 632.5784946904917\n"
     ]
    },
    {
     "name": "stderr",
     "output_type": "stream",
     "text": [
      "Epoch [4/25]: 100%|██████████| 24/24 [00:24<00:00,  1.02s/it, loss=21.8]\n"
     ]
    },
    {
     "name": "stdout",
     "output_type": "stream",
     "text": [
      "Total loss: 567.6566204883026\n"
     ]
    },
    {
     "name": "stderr",
     "output_type": "stream",
     "text": [
      "Epoch [5/25]: 100%|██████████| 24/24 [00:24<00:00,  1.01s/it, loss=18.5]\n"
     ]
    },
    {
     "name": "stdout",
     "output_type": "stream",
     "text": [
      "Total loss: 484.789930820332\n"
     ]
    },
    {
     "name": "stderr",
     "output_type": "stream",
     "text": [
      "Epoch [6/25]: 100%|██████████| 24/24 [00:24<00:00,  1.01s/it, loss=14.8]\n"
     ]
    },
    {
     "name": "stdout",
     "output_type": "stream",
     "text": [
      "Total loss: 396.40340279807737\n"
     ]
    },
    {
     "name": "stderr",
     "output_type": "stream",
     "text": [
      "Epoch [7/25]: 100%|██████████| 24/24 [00:23<00:00,  1.01it/s, loss=12.2]\n"
     ]
    },
    {
     "name": "stdout",
     "output_type": "stream",
     "text": [
      "Total loss: 319.7018732940778\n"
     ]
    },
    {
     "name": "stderr",
     "output_type": "stream",
     "text": [
      "Epoch [8/25]: 100%|██████████| 24/24 [00:23<00:00,  1.01it/s, loss=11.1]\n"
     ]
    },
    {
     "name": "stdout",
     "output_type": "stream",
     "text": [
      "Total loss: 276.0450616915311\n"
     ]
    },
    {
     "name": "stderr",
     "output_type": "stream",
     "text": [
      "Epoch [9/25]: 100%|██████████| 24/24 [00:23<00:00,  1.01it/s, loss=10.3]\n"
     ]
    },
    {
     "name": "stdout",
     "output_type": "stream",
     "text": [
      "Total loss: 255.26597501999433\n"
     ]
    },
    {
     "name": "stderr",
     "output_type": "stream",
     "text": [
      "Epoch [10/25]: 100%|██████████| 24/24 [00:24<00:00,  1.02s/it, loss=10.1]\n"
     ]
    },
    {
     "name": "stdout",
     "output_type": "stream",
     "text": [
      "Total loss: 242.1750602811974\n"
     ]
    },
    {
     "name": "stderr",
     "output_type": "stream",
     "text": [
      "Epoch [11/25]: 100%|██████████| 24/24 [00:24<00:00,  1.02s/it, loss=9.79]\n"
     ]
    },
    {
     "name": "stdout",
     "output_type": "stream",
     "text": [
      "Total loss: 232.53389100657245\n"
     ]
    },
    {
     "name": "stderr",
     "output_type": "stream",
     "text": [
      "Epoch [12/25]: 100%|██████████| 24/24 [00:24<00:00,  1.02s/it, loss=9.08]\n"
     ]
    },
    {
     "name": "stdout",
     "output_type": "stream",
     "text": [
      "Total loss: 224.23956043875245\n"
     ]
    },
    {
     "name": "stderr",
     "output_type": "stream",
     "text": [
      "Epoch [13/25]: 100%|██████████| 24/24 [00:24<00:00,  1.02s/it, loss=8.77]\n"
     ]
    },
    {
     "name": "stdout",
     "output_type": "stream",
     "text": [
      "Total loss: 217.74838012716333\n"
     ]
    },
    {
     "name": "stderr",
     "output_type": "stream",
     "text": [
      "Epoch [14/25]: 100%|██████████| 24/24 [00:24<00:00,  1.02s/it, loss=9.06]\n"
     ]
    },
    {
     "name": "stdout",
     "output_type": "stream",
     "text": [
      "Total loss: 212.7707343991247\n"
     ]
    },
    {
     "name": "stderr",
     "output_type": "stream",
     "text": [
      "Epoch [15/25]: 100%|██████████| 24/24 [00:24<00:00,  1.02s/it, loss=8.5] \n"
     ]
    },
    {
     "name": "stdout",
     "output_type": "stream",
     "text": [
      "Total loss: 207.46637141554882\n"
     ]
    },
    {
     "name": "stderr",
     "output_type": "stream",
     "text": [
      "Epoch [16/25]: 100%|██████████| 24/24 [00:24<00:00,  1.02s/it, loss=8.46]\n"
     ]
    },
    {
     "name": "stdout",
     "output_type": "stream",
     "text": [
      "Total loss: 203.74152185890958\n"
     ]
    },
    {
     "name": "stderr",
     "output_type": "stream",
     "text": [
      "Epoch [17/25]: 100%|██████████| 24/24 [00:24<00:00,  1.02s/it, loss=8.27]\n"
     ]
    },
    {
     "name": "stdout",
     "output_type": "stream",
     "text": [
      "Total loss: 199.8839218844327\n"
     ]
    },
    {
     "name": "stderr",
     "output_type": "stream",
     "text": [
      "Epoch [18/25]: 100%|██████████| 24/24 [00:24<00:00,  1.02s/it, loss=8.66]\n"
     ]
    },
    {
     "name": "stdout",
     "output_type": "stream",
     "text": [
      "Total loss: 196.97103194486616\n"
     ]
    },
    {
     "name": "stderr",
     "output_type": "stream",
     "text": [
      "Epoch [19/25]: 100%|██████████| 24/24 [00:24<00:00,  1.02s/it, loss=8.16]\n"
     ]
    },
    {
     "name": "stdout",
     "output_type": "stream",
     "text": [
      "Total loss: 194.04251712277932\n"
     ]
    },
    {
     "name": "stderr",
     "output_type": "stream",
     "text": [
      "Epoch [20/25]: 100%|██████████| 24/24 [00:24<00:00,  1.02s/it, loss=8.13]\n"
     ]
    },
    {
     "name": "stdout",
     "output_type": "stream",
     "text": [
      "Total loss: 191.06769202716117\n"
     ]
    },
    {
     "name": "stderr",
     "output_type": "stream",
     "text": [
      "Epoch [21/25]: 100%|██████████| 24/24 [00:24<00:00,  1.02s/it, loss=7.95]\n"
     ]
    },
    {
     "name": "stdout",
     "output_type": "stream",
     "text": [
      "Total loss: 188.7993001922566\n"
     ]
    },
    {
     "name": "stderr",
     "output_type": "stream",
     "text": [
      "Epoch [22/25]: 100%|██████████| 24/24 [00:24<00:00,  1.01s/it, loss=7.37]\n"
     ]
    },
    {
     "name": "stdout",
     "output_type": "stream",
     "text": [
      "Total loss: 186.72732474352233\n"
     ]
    },
    {
     "name": "stderr",
     "output_type": "stream",
     "text": [
      "Epoch [23/25]: 100%|██████████| 24/24 [00:24<00:00,  1.01s/it, loss=7.48]\n"
     ]
    },
    {
     "name": "stdout",
     "output_type": "stream",
     "text": [
      "Total loss: 184.94273370215004\n"
     ]
    },
    {
     "name": "stderr",
     "output_type": "stream",
     "text": [
      "Epoch [24/25]: 100%|██████████| 24/24 [00:24<00:00,  1.01s/it, loss=7.59]\n"
     ]
    },
    {
     "name": "stdout",
     "output_type": "stream",
     "text": [
      "Total loss: 183.104915134642\n"
     ]
    },
    {
     "name": "stderr",
     "output_type": "stream",
     "text": [
      "Epoch [25/25]: 100%|██████████| 24/24 [00:24<00:00,  1.02s/it, loss=7.72]"
     ]
    },
    {
     "name": "stdout",
     "output_type": "stream",
     "text": [
      "Total loss: 181.44516321890322\n"
     ]
    },
    {
     "name": "stderr",
     "output_type": "stream",
     "text": [
      "\n"
     ]
    }
   ],
   "source": [
    "# Initialize the VAE\n",
    "z_dim = 128\n",
    "conditioned_model = CVAE(z_dim, n_classes=10, n_channels=N_CHANNELS, img_size=INPUT_SHAPE[:2]).to(device)\n",
    "\n",
    "# Feel free to tweak the training parameters\n",
    "epochs = 25\n",
    "lr = 0.00001\n",
    "optimizer = Adam(conditioned_model.parameters(), lr=lr)\n",
    "\n",
    "# Train for a few epochs\n",
    "conditioned_model.train()\n",
    "\n",
    "losses = []\n",
    "\n",
    "# TODO USE: with traindata.shufflecontext(): 2 # do training loop ...\n",
    "for epoch in range(epochs):\n",
    "    train_bar = tqdm(iterable=train_loader)\n",
    "    total_loss = 0\n",
    "    for i, (x, c) in enumerate(train_bar):\n",
    "        x = x.to(device)\n",
    "        c = c.to(device)\n",
    "        # Get x_hat, mean, logvar,and cls_token from the conditioned_model\n",
    "        x, x_hat, mean, logvar, cls_token = conditioned_model.forward(x, c)\n",
    "        x = x[:, :N_CHANNELS, :, :] # excluding cls_emebdding\n",
    "\n",
    "        # Get vae loss\n",
    "        #print(\"x.size() =\", x.size())\n",
    "        #print(\"x_hat.size() =\", x_hat.size())        \n",
    "        vae_loss = get_vae_loss(x, x_hat, mean, logvar)\n",
    "\n",
    "        # Get cross entropy loss for the cls token\n",
    "        # print(\"cls_token.size() =\", cls_token.size())\n",
    "        # print(\"OHE\", F.one_hot(c, num_classes=10).double().size())\n",
    "        cls_loss = F.cross_entropy(cls_token, F.one_hot(c, num_classes=10).double(), reduction='sum')\n",
    "\n",
    "        # Add the losses as a weighted sum. NB: We weight the cls_loss by 10 here, but feel free to tweak it.\n",
    "        loss = vae_loss + cls_loss  #* 10 # reducing vae_loss instead\n",
    "        total_loss += loss / len(x)\n",
    "        \n",
    "        # Update model parameters based on loss\n",
    "        optimizer.zero_grad()\n",
    "        loss.backward()\n",
    "        optimizer.step()\n",
    "        \n",
    "        train_bar.set_description(f'Epoch [{epoch+1}/{epochs}]')\n",
    "        train_bar.set_postfix(loss = loss.item() / len(x))\n",
    "    losses.append(total_loss.item())\n",
    "    print(\"Total loss:\", losses[-1])"
   ]
  },
  {
   "cell_type": "code",
   "execution_count": 57,
   "id": "4c4240ae-d6d9-4a28-a966-c5852a601adb",
   "metadata": {},
   "outputs": [
    {
     "data": {
      "text/plain": [
       "[<matplotlib.lines.Line2D at 0x14ba809713f0>]"
      ]
     },
     "execution_count": 57,
     "metadata": {},
     "output_type": "execute_result"
    },
    {
     "data": {
      "image/png": "[encoded data removed]",
      "text/plain": [
       "<Figure size 432x288 with 1 Axes>"
      ]
     },
     "metadata": {
      "needs_background": "light"
     },
     "output_type": "display_data"
    }
   ],
   "source": [
    "# Print convergence plot\n",
    "plt.plot(losses, \"-bo\")"
   ]
  },
  {
   "cell_type": "code",
   "execution_count": null,
   "id": "91512ee2-5b5e-489d-9970-608910eef429",
   "metadata": {
    "tags": []
   },
   "outputs": [],
   "source": [
    "# This doesn't work\n",
    "# x.size() = torch.Size([64, 4, 96, 128])\n",
    "# x_hat.size() = torch.Size([64, 3, 96, 128])\n",
    "#x - x_hat"
   ]
  },
  {
   "cell_type": "markdown",
   "id": "5efee4a0",
   "metadata": {},
   "source": [
    "To generate new images conditioned on a class label, we sample some noise $z \\sim N(0,I)$ and concatenate the one-hot vector of the class label we want to condition on. Then we use the decoder to generate a new image.\n",
    "If your CVAE model was trained correctly, the cell below should generate new images of the selected class."
   ]
  },
  {
   "cell_type": "markdown",
   "id": "4ebc90c8-3e4b-488c-b5e9-f0c1b66a0e4f",
   "metadata": {},
   "source": [
    "## Get generations"
   ]
  },
  {
   "cell_type": "code",
   "execution_count": 64,
   "id": "dcf3103e-7204-41a7-8f87-de09e1e7ef5a",
   "metadata": {},
   "outputs": [
    {
     "data": {
      "image/png": "[encoded data removed]",
      "text/plain": [
       "<Figure size 360x360 with 1 Axes>"
      ]
     },
     "metadata": {
      "needs_background": "light"
     },
     "output_type": "display_data"
    }
   ],
   "source": [
    "# Put model in evalulation mode\n",
    "conditioned_model.eval()\n",
    "\n",
    "# Select a class label\n",
    "cls_label = 2\n",
    "\n",
    "with torch.no_grad():\n",
    "    # Sample noise from N(0,I)\n",
    "    # TODO also try out other priors\n",
    "    z = torch.randn(1, z_dim).to(device)\n",
    "\n",
    "    # Make a one-hot for the selected class label, which will act as the cls token\n",
    "    cls_token = F.one_hot(torch.tensor(cls_label).unsqueeze(0), num_classes=10).to(device)\n",
    "\n",
    "    # Concatenate z and the cls token\n",
    "    z = torch.cat((z, cls_token), dim=1)  # TODO prob this should be saved acc to instructions!\n",
    "\n",
    "    # Generate new image with the decoder\n",
    "    x_hat = conditioned_model.decoder(z)\n",
    "    x_hat = x_hat.squeeze(0).cpu().detach()\n",
    "\n",
    "# Show generated image\n",
    "plt.figure(figsize=(5,5))\n",
    "x_hat_permuted = x_hat.permute(1, 2 ,0)\n",
    "#plt.imshow((x_hat_permuted+1)*.5, cmap=plt.get_cmap('gray'))\n",
    "plt.imshow(x_hat_permuted, cmap=plt.get_cmap('gray'))\n",
    "plt.title(f\"A generated image of class={cls_label}\")\n",
    "plt.axis('off')\n",
    "plt.show()"
   ]
  },
  {
   "cell_type": "code",
   "execution_count": 334,
   "id": "52ee98dc-f294-4414-9f3c-55c540067ff7",
   "metadata": {},
   "outputs": [
    {
     "name": "stdout",
     "output_type": "stream",
     "text": [
      "Preference score: 2\n"
     ]
    },
    {
     "data": {
      "image/png": "[encoded data removed]",
      "text/plain": [
       "<Figure size 432x288 with 1 Axes>"
      ]
     },
     "metadata": {
      "needs_background": "light"
     },
     "output_type": "display_data"
    }
   ],
   "source": [
    "print(\"Preference score:\", train_set[i][1])\n",
    "plt.imshow(train_set[i][0].permute(1,2,0), cmap=plt.get_cmap('gray'))\n",
    "plt.show()\n",
    "i += 1"
   ]
  },
  {
   "cell_type": "markdown",
   "id": "9aa13d1f-5fbe-46e5-883a-7e92f1b2c7b7",
   "metadata": {},
   "source": [
    "### Dataset Analysis"
   ]
  },
  {
   "cell_type": "code",
   "execution_count": 304,
   "id": "beb12426-cc72-4222-8698-204cabb661e8",
   "metadata": {
    "collapsed": true,
    "jupyter": {
     "outputs_hidden": true
    },
    "tags": []
   },
   "outputs": [
    {
     "ename": "Exception",
     "evalue": "stop",
     "output_type": "error",
     "traceback": [
      "\u001B[0;31m---------------------------------------------------------------------------\u001B[0m",
      "\u001B[0;31mException\u001B[0m                                 Traceback (most recent call last)",
      "Cell \u001B[0;32mIn [304], line 1\u001B[0m\n\u001B[0;32m----> 1\u001B[0m \u001B[38;5;28;01mraise\u001B[39;00m \u001B[38;5;167;01mException\u001B[39;00m(\u001B[38;5;124m\"\u001B[39m\u001B[38;5;124mstop\u001B[39m\u001B[38;5;124m\"\u001B[39m)\n",
      "\u001B[0;31mException\u001B[0m: stop"
     ]
    }
   ],
   "source": [
    "raise Exception(\"stop\")"
   ]
  },
  {
   "cell_type": "code",
   "execution_count": 305,
   "id": "af525249-efcf-4cfb-94ca-8e161a56b11c",
   "metadata": {},
   "outputs": [],
   "source": [
    "scores = []\n",
    "for i in range(len(train_set)):\n",
    "    scores.append(train_set[i][1])"
   ]
  },
  {
   "cell_type": "code",
   "execution_count": 308,
   "id": "c406c9c3-75a4-4d6a-9df4-b9548cb0e4bb",
   "metadata": {},
   "outputs": [
    {
     "data": {
      "text/plain": [
       "Counter({2: 1226,\n",
       "         1: 1724,\n",
       "         0: 1163,\n",
       "         5: 335,\n",
       "         3: 764,\n",
       "         7: 82,\n",
       "         4: 496,\n",
       "         6: 179,\n",
       "         8: 27,\n",
       "         9: 4})"
      ]
     },
     "execution_count": 308,
     "metadata": {},
     "output_type": "execute_result"
    }
   ],
   "source": [
    "from collections import Counter\n",
    "Counter(scores)"
   ]
  },
  {
   "cell_type": "code",
   "execution_count": 309,
   "id": "ae0cca8f-f1aa-45db-9dbd-266c72c3dc48",
   "metadata": {},
   "outputs": [],
   "source": [
    "# Score = 9: [562, 2984, 3392, 4864]"
   ]
  },
  {
   "cell_type": "code",
   "execution_count": 310,
   "id": "fee9f04a-6dbf-4c13-9874-c4c097332e75",
   "metadata": {},
   "outputs": [],
   "source": [
    "i = 4"
   ]
  },
  {
   "cell_type": "code",
   "execution_count": 141,
   "id": "f37be981-7415-46a9-a6d1-2efd7a047bb6",
   "metadata": {},
   "outputs": [
    {
     "name": "stdout",
     "output_type": "stream",
     "text": [
      "Preference score: 5\n"
     ]
    },
    {
     "data": {
      "image/png": "[encoded data removed]",
      "text/plain": [
       "<Figure size 432x288 with 1 Axes>"
      ]
     },
     "metadata": {
      "needs_background": "light"
     },
     "output_type": "display_data"
    }
   ],
   "source": [
    "print(\"Preference score:\", train_set[i][1])\n",
    "permuted_train_set = train_set[i][0].permute(1,2,0)\n",
    "\n",
    "plt.imshow((permuted_train_set+1)*.5, cmap=plt.get_cmap('gray'))\n",
    "plt.show()\n",
    "#i += 1"
   ]
  },
  {
   "cell_type": "code",
   "execution_count": 104,
   "id": "2aef2a17-72c7-45ba-9c80-4b19e1a8bba7",
   "metadata": {},
   "outputs": [
    {
     "data": {
      "text/plain": [
       "tensor([[[ 83.4710,  84.0139,  80.3743,  ..., 103.8327,  92.7517,  66.2770],\n",
       "         [107.6457,  92.3275,  70.3172,  ..., 114.7835, 107.3760, 102.4781],\n",
       "         [ 94.4461,  99.4346,  83.4237,  ..., 119.2529, 109.8161, 103.0797],\n",
       "         ...,\n",
       "         [ 96.7647,  98.9268, 104.6256,  ...,  75.2343,  75.2343,  75.2343],\n",
       "         [ 93.7166,  98.3483, 102.9799,  ...,  73.2267,  73.2267,  73.2267],\n",
       "         [ 86.0207,  93.3292,  98.1281,  ...,  73.0593,  72.2228,  73.0593]],\n",
       "\n",
       "        [[ 83.4710,  84.0139,  80.3743,  ..., 103.8327,  92.7517,  66.2770],\n",
       "         [107.6457,  92.3275,  70.3172,  ..., 114.7835, 107.3760, 102.4781],\n",
       "         [ 94.4461,  99.4346,  83.4237,  ..., 119.2529, 109.8161, 103.0797],\n",
       "         ...,\n",
       "         [ 96.7647,  98.9268, 104.6256,  ...,  75.2343,  75.2343,  75.2343],\n",
       "         [ 93.7166,  98.3483, 102.9799,  ...,  73.2267,  73.2267,  73.2267],\n",
       "         [ 86.0207,  93.3292,  98.1281,  ...,  73.0593,  72.2228,  73.0593]],\n",
       "\n",
       "        [[ 83.4710,  84.0139,  80.3743,  ..., 103.8327,  92.7517,  66.2770],\n",
       "         [107.6457,  92.3275,  70.3172,  ..., 114.7835, 107.3760, 102.4781],\n",
       "         [ 94.4461,  99.4346,  83.4237,  ..., 119.2529, 109.8161, 103.0797],\n",
       "         ...,\n",
       "         [ 96.7647,  98.9268, 104.6256,  ...,  75.2343,  75.2343,  75.2343],\n",
       "         [ 93.7166,  98.3483, 102.9799,  ...,  73.2267,  73.2267,  73.2267],\n",
       "         [ 86.0207,  93.3292,  98.1281,  ...,  73.0593,  72.2228,  73.0593]]])"
      ]
     },
     "execution_count": 104,
     "metadata": {},
     "output_type": "execute_result"
    }
   ],
   "source": [
    "(train_set[0][0]+1)*256/2"
   ]
  }
 ],
 "metadata": {
  "kernelspec": {
   "display_name": "in5310",
   "language": "python",
   "name": "in5310"
  },
  "language_info": {
   "codemirror_mode": {
    "name": "ipython",
    "version": 3
   },
   "file_extension": ".py",
   "mimetype": "text/x-python",
   "name": "python",
   "nbconvert_exporter": "python",
   "pygments_lexer": "ipython3",
   "version": "3.10.4"
  }
 },
 "nbformat": 4,
 "nbformat_minor": 5
}
