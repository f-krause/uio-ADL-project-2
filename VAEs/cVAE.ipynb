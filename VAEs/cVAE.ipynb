{
 "cells": [
  {
   "cell_type": "markdown",
   "id": "69be676e-9733-45f1-9b30-9d2c330367ad",
   "metadata": {
    "tags": []
   },
   "source": [
    "# Conditional VAE"
   ]
  },
  {
   "cell_type": "code",
   "execution_count": 1,
   "id": "490141ea-7e42-4c30-8284-e76646a12684",
   "metadata": {},
   "outputs": [],
   "source": [
    "%load_ext autoreload\n",
    "%autoreload 2\n",
    "%matplotlib inline"
   ]
  },
  {
   "cell_type": "code",
   "execution_count": 2,
   "id": "794e0878",
   "metadata": {},
   "outputs": [],
   "source": [
    "import torch\n",
    "import torch.nn as nn\n",
    "import torch.nn.functional as F\n",
    "import numpy as np\n",
    "import matplotlib.pyplot as plt\n",
    "\n",
    "from torchvision import transforms\n",
    "from torchvision.datasets import MNIST\n",
    "from torch.optim import Adam\n",
    "from torch.utils.data import DataLoader\n",
    "from torch import Tensor\n",
    "from tqdm import tqdm\n",
    "\n",
    "# Set the main device\n",
    "device = torch.device(\"cuda\" if torch.cuda.is_available() else \"cpu\")"
   ]
  },
  {
   "cell_type": "markdown",
   "id": "b4acefec-7cd1-427d-a81a-1b7f10ece3fe",
   "metadata": {},
   "source": [
    "## Load data"
   ]
  },
  {
   "cell_type": "code",
   "execution_count": 3,
   "id": "f43c399e-e1e4-4f3c-b595-4d1863f78543",
   "metadata": {},
   "outputs": [
    {
     "name": "stderr",
     "output_type": "stream",
     "text": [
      "/projects/ec232/venvs/in5310/lib/python3.10/site-packages/torchvision/transforms/functional.py:1603: UserWarning: The default value of the antialias parameter of all the resizing transforms (Resize(), RandomResizedCrop(), etc.) will change from None to True in v0.17, in order to be consistent across the PIL and Tensor backends. To suppress this warning, directly pass antialias=True (recommended, future default), antialias=None (current default, which means False for Tensors and True for PIL), or antialias=False (only works on Tensors - PIL will still use antialiasing). This also applies if you are using the inference transforms from the models weights: update the call to weights.transforms(antialias=True).\n",
      "  warnings.warn(\n"
     ]
    },
    {
     "data": {
      "text/plain": [
       "torch.Size([1, 28, 28])"
      ]
     },
     "execution_count": 3,
     "metadata": {},
     "output_type": "execute_result"
    }
   ],
   "source": [
    "# CAR DATA\n",
    "# Load car data for project 2\n",
    "import torchvision\n",
    "from torchvision import transforms\n",
    "from PIL import Image\n",
    "import torch\n",
    "import numpy as np\n",
    "import litdata\n",
    "\n",
    "\n",
    "class ToRGBTensor:\n",
    "    \"\"\"Code from Mariuaas copied from Discourse\"\"\"\n",
    "    def __call__(self, img):\n",
    "        return transforms.functional.to_tensor(img).expand(3, -1, -1)  # Expand to 3 channels\n",
    "\n",
    "    def __repr__(self) -> str:\n",
    "        return f\"{self.__class__.__name__}()\"\n",
    "    \n",
    "    \n",
    "class GetMoiraLabel:\n",
    "    def __call__(self, tensor):\n",
    "        return int(tensor.squeeze()[1])\n",
    "\n",
    "    def __repr__(self) -> str:\n",
    "        return f\"{self.__class__.__name__}()\"\n",
    "\n",
    "\n",
    "def get_data(input_shape: list):\n",
    "    \"\"\"\n",
    "    Get train and test data loader based on educload .tar data\n",
    "    Code adapted from Mariuaas from Discourse\n",
    "    \"\"\"\n",
    "    # Define data path\n",
    "    DATA_PATH = '/projects/ec232/data/'\n",
    "\n",
    "    # Define mean and std from ImageNet data\n",
    "    IN_MEAN = [0.485, 0.456, 0.406]\n",
    "    IN_STD = [0.229, 0.224, 0.225]\n",
    "\n",
    "    # Define postprocessing / transform of data modalities\n",
    "    postprocess = (  # Create tuple for image and class...\n",
    "        transforms.Compose([  # Handles processing of the .jpg image\n",
    "            ToRGBTensor(),  # Convert from PIL image to RGB torch.Tensor\n",
    "            transforms.Grayscale(num_output_channels=input_shape[2]),\n",
    "            transforms.Resize(input_shape[:2]),  # Resize images\n",
    "            #transforms.Normalize(IN_MEAN, IN_STD),  # Normalize image to correct mean/std\n",
    "            #transforms.Normalize(0.5, 0.5),\n",
    "            \n",
    "        ]),\n",
    "        transforms.Compose([  # Handles processing of the .jpg image\n",
    "            transforms.ToTensor(), # Convert .scores.npy file to tensor\n",
    "            GetMoiraLabel(),\n",
    "        ])\n",
    "    )\n",
    "\n",
    "    # Load data\n",
    "    data = litdata.LITDataset(\n",
    "        \"CarRecs\",\n",
    "        DATA_PATH,\n",
    "        override_extensions=[\"jpg\", \"scores.npy\"],  # first load image, then scores\n",
    "    ).map_tuple(*postprocess)\n",
    "\n",
    "    return data\n",
    "\n",
    "N_CHANNELS = 1\n",
    "#INPUT_SHAPE = [96, 96, N_CHANNELS]\n",
    "INPUT_SHAPE = [28, 28, N_CHANNELS]\n",
    "# INPUT_SHAPE = [96, 128, N_CHANNELS]\n",
    "batch_size = 64 * 4\n",
    "\n",
    "ORIGINAL = False\n",
    "train_set = get_data(INPUT_SHAPE)\n",
    "\n",
    "# Create data loader\n",
    "train_loader = DataLoader(train_set, shuffle=True, batch_size=batch_size)\n",
    "train_set[0][0].size()"
   ]
  },
  {
   "cell_type": "code",
   "execution_count": 4,
   "id": "89e40ab4-abcb-4155-94d8-441d44d831f1",
   "metadata": {},
   "outputs": [],
   "source": [
    "ORIGINAL = True"
   ]
  },
  {
   "cell_type": "code",
   "execution_count": 5,
   "id": "25ee353d-2c88-4727-9407-ca7a93219bda",
   "metadata": {
    "tags": []
   },
   "outputs": [
    {
     "data": {
      "text/plain": [
       "tensor([[[0.3651, 0.3071, 0.3184, 0.3981, 0.2040, 0.2399, 0.1149, 0.0793,\n",
       "          0.0598, 0.3654, 0.0873, 0.1678, 0.2175, 0.1723, 0.1702, 0.2607,\n",
       "          0.1740, 0.1987, 0.1874, 0.3287, 0.4106, 0.4207, 0.3178, 0.2477,\n",
       "          0.2932, 0.3610, 0.3210, 0.4523],\n",
       "         [0.5054, 0.3172, 0.0962, 0.5261, 0.2245, 0.2551, 0.2998, 0.1964,\n",
       "          0.1210, 0.4555, 0.1492, 0.0876, 0.1160, 0.2000, 0.2342, 0.2266,\n",
       "          0.2404, 0.2181, 0.2096, 0.2199, 0.3168, 0.3570, 0.2840, 0.2595,\n",
       "          0.3302, 0.3206, 0.3387, 0.4719],\n",
       "         [0.2687, 0.1913, 0.0896, 0.2180, 0.1852, 0.1343, 0.1326, 0.2753,\n",
       "          0.1499, 0.4075, 0.1960, 0.0670, 0.1821, 0.1625, 0.1911, 0.2454,\n",
       "          0.3370, 0.3321, 0.6601, 0.5612, 0.7381, 0.2864, 0.2713, 0.2132,\n",
       "          0.3560, 0.3108, 0.3477, 0.5785],\n",
       "         [0.1596, 0.1020, 0.0882, 0.1386, 0.0821, 0.1292, 0.3641, 0.1508,\n",
       "          0.1683, 0.1964, 0.1600, 0.3470, 0.2151, 0.2673, 0.2825, 0.2765,\n",
       "          0.2368, 0.1451, 0.1500, 0.6034, 0.5861, 0.1804, 0.1800, 0.1780,\n",
       "          0.1725, 0.4584, 0.5385, 0.5021],\n",
       "         [0.2109, 0.1274, 0.0950, 0.3657, 0.5544, 0.3445, 0.7547, 0.4216,\n",
       "          0.1192, 0.0911, 0.0567, 0.1376, 0.1310, 0.1933, 0.1891, 0.2730,\n",
       "          0.0590, 0.1857, 0.1583, 0.0927, 0.1179, 0.1199, 0.1196, 0.3429,\n",
       "          0.1782, 0.4325, 0.5366, 0.3844],\n",
       "         [0.1722, 0.0583, 0.0374, 0.0574, 0.1537, 0.5524, 0.4273, 0.4145,\n",
       "          0.1779, 0.1225, 0.1714, 0.0981, 0.0913, 0.1222, 0.0934, 0.1052,\n",
       "          0.0574, 0.0579, 0.0864, 0.1060, 0.0451, 0.1338, 0.1228, 0.4570,\n",
       "          0.1318, 0.0933, 0.1575, 0.1495],\n",
       "         [0.2637, 0.1151, 0.0369, 0.1887, 0.4138, 0.4146, 0.4117, 0.4094,\n",
       "          0.3515, 0.1651, 0.0901, 0.0914, 0.0787, 0.4272, 0.4162, 0.5445,\n",
       "          0.6049, 0.3826, 0.0928, 0.0872, 0.0376, 0.1747, 0.1926, 0.5677,\n",
       "          0.1749, 0.2192, 0.2952, 0.1412],\n",
       "         [0.3801, 0.2006, 0.0442, 0.1024, 0.2243, 0.3155, 0.3859, 0.4086,\n",
       "          0.4030, 0.4738, 0.1844, 0.0355, 0.4611, 0.5967, 0.0708, 0.1304,\n",
       "          0.3385, 0.0663, 0.0552, 0.2969, 0.6388, 0.3081, 0.3237, 0.3128,\n",
       "          0.1116, 0.0890, 0.1267, 0.3247],\n",
       "         [0.4300, 0.2479, 0.1144, 0.1210, 0.2088, 0.2454, 0.2964, 0.3597,\n",
       "          0.4262, 0.5274, 0.2487, 0.2339, 0.5267, 0.4097, 0.0636, 0.1252,\n",
       "          0.1936, 0.2223, 0.0502, 0.3125, 0.3354, 0.4559, 0.4869, 0.4868,\n",
       "          0.3145, 0.1291, 0.0760, 0.3154],\n",
       "         [0.3385, 0.1840, 0.1002, 0.1517, 0.0578, 0.2032, 0.3470, 0.3556,\n",
       "          0.2621, 0.2749, 0.2090, 0.0624, 0.1681, 0.2378, 0.3122, 0.2263,\n",
       "          0.2435, 0.3474, 0.1314, 0.3138, 0.2286, 0.3488, 0.3613, 0.3068,\n",
       "          0.1008, 0.2435, 0.0690, 0.3112],\n",
       "         [0.2586, 0.1710, 0.0787, 0.1324, 0.2269, 0.1616, 0.3432, 0.4139,\n",
       "          0.4624, 0.6533, 0.7222, 0.6679, 0.4538, 0.1726, 0.0931, 0.1513,\n",
       "          0.1411, 0.1285, 0.1088, 0.7752, 0.1875, 0.2902, 0.3856, 0.5271,\n",
       "          0.2462, 0.4889, 0.0569, 0.1631],\n",
       "         [0.0627, 0.0664, 0.0846, 0.0979, 0.1618, 0.2165, 0.7932, 0.8606,\n",
       "          0.8688, 0.9057, 0.8871, 0.8743, 0.8540, 0.8290, 0.8274, 0.6784,\n",
       "          0.1078, 0.0935, 0.0751, 0.5313, 0.1647, 0.2158, 0.7976, 0.7465,\n",
       "          0.0817, 0.1571, 0.0598, 0.1664],\n",
       "         [0.4314, 0.1923, 0.1803, 0.1950, 0.8325, 0.9359, 0.9537, 0.9699,\n",
       "          0.9688, 0.9509, 0.9277, 0.9039, 0.8926, 0.8747, 0.8581, 0.8581,\n",
       "          0.8444, 0.7993, 0.5045, 0.6819, 0.5712, 0.5784, 0.7293, 0.5893,\n",
       "          0.1165, 0.0919, 0.1370, 0.1370],\n",
       "         [0.3825, 0.3362, 0.4424, 0.9210, 0.9913, 0.9927, 0.9950, 0.9987,\n",
       "          0.9880, 0.9637, 0.9392, 0.9167, 0.9019, 0.8840, 0.8774, 0.8475,\n",
       "          0.8387, 0.8525, 0.8379, 0.8117, 0.7788, 0.6383, 0.6008, 0.4977,\n",
       "          0.0819, 0.0908, 0.1636, 0.1169],\n",
       "         [0.2958, 0.3425, 0.9165, 0.9774, 0.9974, 0.9999, 0.9999, 0.9981,\n",
       "          0.9806, 0.9657, 0.9413, 0.9299, 0.8971, 0.8814, 0.8504, 0.8545,\n",
       "          0.8326, 0.8023, 0.7870, 0.7293, 0.6609, 0.6144, 0.5314, 0.4314,\n",
       "          0.0864, 0.0939, 0.1417, 0.3838],\n",
       "         [0.2596, 0.2929, 0.4773, 0.9814, 0.9929, 0.9974, 0.9974, 0.9886,\n",
       "          0.9700, 0.9515, 0.9327, 0.9119, 0.8798, 0.8588, 0.8505, 0.8421,\n",
       "          0.8166, 0.7533, 0.6786, 0.6389, 0.6086, 0.5754, 0.4890, 0.5720,\n",
       "          0.0931, 0.0946, 0.1096, 0.2824],\n",
       "         [0.3098, 0.3144, 0.2025, 0.0854, 0.7307, 0.9874, 0.9756, 0.9916,\n",
       "          0.9788, 0.9449, 0.9172, 0.8740, 0.8865, 0.8481, 0.8405, 0.8319,\n",
       "          0.7091, 0.6599, 0.6155, 0.5759, 0.5608, 0.5221, 0.5954, 0.2720,\n",
       "          0.1515, 0.1036, 0.0684, 0.2631],\n",
       "         [0.2780, 0.7564, 0.7217, 0.1312, 0.4345, 0.0813, 0.4769, 0.8274,\n",
       "          0.9361, 0.9214, 0.8496, 0.8825, 0.8365, 0.7801, 0.8364, 0.6216,\n",
       "          0.0452, 0.1727, 0.5507, 0.5385, 0.6134, 0.5351, 0.3959, 0.1317,\n",
       "          0.2567, 0.2295, 0.1054, 0.2546],\n",
       "         [0.3090, 0.6741, 0.9160, 0.8627, 0.1214, 0.1016, 0.1931, 0.1147,\n",
       "          0.6319, 0.0916, 0.1962, 0.6274, 0.7240, 0.7012, 0.7710, 0.0857,\n",
       "          0.0924, 0.0239, 0.5435, 0.6380, 0.4910, 0.5012, 0.0998, 0.0691,\n",
       "          0.2185, 0.3976, 0.2432, 0.3242],\n",
       "         [0.3159, 0.3904, 0.8350, 0.9700, 0.9618, 0.5480, 0.1959, 0.1378,\n",
       "          0.7478, 0.1058, 0.1491, 0.1588, 0.6326, 0.7219, 0.3908, 0.0956,\n",
       "          0.2538, 0.0568, 0.5818, 0.4888, 0.5618, 0.0840, 0.3219, 0.1821,\n",
       "          0.1296, 0.2923, 0.2841, 0.3416],\n",
       "         [0.3595, 0.3856, 0.7485, 0.7347, 0.9412, 0.9424, 0.9454, 0.8286,\n",
       "          0.8831, 0.4363, 0.2981, 0.3465, 0.5757, 0.7372, 0.0745, 0.1540,\n",
       "          0.1801, 0.0567, 0.4235, 0.5410, 0.0673, 0.3438, 0.3728, 0.3873,\n",
       "          0.2754, 0.3632, 0.3458, 0.3441],\n",
       "         [0.3961, 0.4076, 0.4850, 0.7261, 0.7032, 0.6878, 0.8718, 0.9019,\n",
       "          0.9055, 0.8847, 0.8654, 0.8607, 0.6098, 0.6351, 0.0871, 0.3169,\n",
       "          0.2746, 0.1484, 0.3891, 0.1491, 0.3551, 0.3320, 0.3495, 0.4019,\n",
       "          0.3931, 0.4257, 0.3947, 0.3598],\n",
       "         [0.2480, 0.2138, 0.4536, 0.2001, 0.4293, 0.7156, 0.6663, 0.6414,\n",
       "          0.4943, 0.4729, 0.4381, 0.3414, 0.4424, 0.3740, 0.0594, 0.2413,\n",
       "          0.2049, 0.2106, 0.2186, 0.3541, 0.3938, 0.4529, 0.4625, 0.4347,\n",
       "          0.3996, 0.3871, 0.3804, 0.3526],\n",
       "         [0.2541, 0.4241, 0.4511, 0.2586, 0.3365, 0.0824, 0.2319, 0.5930,\n",
       "          0.7039, 0.7760, 0.7867, 0.7257, 0.5025, 0.0968, 0.0897, 0.3199,\n",
       "          0.8239, 0.2500, 0.3410, 0.4420, 0.4917, 0.4717, 0.4636, 0.3975,\n",
       "          0.4006, 0.3755, 0.3715, 0.3328],\n",
       "         [0.2199, 0.4582, 0.5137, 0.5115, 0.0968, 0.5081, 0.3617, 0.0415,\n",
       "          0.4872, 0.4985, 0.4850, 0.4295, 0.3582, 0.0668, 0.0794, 0.1386,\n",
       "          0.3257, 0.3145, 0.4357, 0.4945, 0.4619, 0.4537, 0.4244, 0.3908,\n",
       "          0.3762, 0.3682, 0.3561, 0.3299],\n",
       "         [0.3011, 0.4409, 0.5102, 0.4737, 0.5592, 0.0875, 0.0711, 0.2378,\n",
       "          0.7027, 0.6667, 0.5465, 0.5565, 0.4888, 0.0586, 0.0874, 0.2622,\n",
       "          0.1958, 0.4667, 0.4813, 0.4569, 0.4569, 0.3958, 0.4061, 0.3841,\n",
       "          0.3418, 0.3446, 0.3393, 0.3278],\n",
       "         [0.4020, 0.4218, 0.4606, 0.4817, 0.5419, 0.4894, 0.2197, 0.0738,\n",
       "          0.0747, 0.0808, 0.0840, 0.0680, 0.0588, 0.0589, 0.0567, 0.1027,\n",
       "          0.4656, 0.4447, 0.4490, 0.4094, 0.4094, 0.3986, 0.3743, 0.3608,\n",
       "          0.3681, 0.3457, 0.3278, 0.3126],\n",
       "         [0.3890, 0.4170, 0.4485, 0.4795, 0.4606, 0.4789, 0.4794, 0.4530,\n",
       "          0.2205, 0.0815, 0.0931, 0.1040, 0.2169, 0.1576, 0.2992, 0.4386,\n",
       "          0.4634, 0.4277, 0.4006, 0.4100, 0.3738, 0.3564, 0.3507, 0.3539,\n",
       "          0.3307, 0.3110, 0.3029, 0.2877]]])"
      ]
     },
     "execution_count": 5,
     "metadata": {},
     "output_type": "execute_result"
    }
   ],
   "source": [
    "train_set[0][0]"
   ]
  },
  {
   "cell_type": "code",
   "execution_count": 6,
   "id": "898ad3aa-952f-4945-9f2a-5e9c7e124391",
   "metadata": {},
   "outputs": [
    {
     "data": {
      "text/plain": [
       "\"\\n# MNIST DATA\\n# Choose the path where you will/have already saved the MNIST dataset\\ndata_dir = '/fp/projects01/ec232/data'\\n\\n# Get dataset\\nORIGINAL = True\\nbatch_size = 64 * 4\\nINPUT_SHAPE = [28, 28, 1]\\nN_CHANNELS = 1\\ntransform = transforms.ToTensor()\\ntrain_set = MNIST(root=data_dir, train=True, download=True, transform=transform)\\nN = len(train_set)\\n\\n# Create data loader\\ntrain_loader = DataLoader(train_set, shuffle=True, batch_size=batch_size)\\ntrain_set[0][0].size()\\n\""
      ]
     },
     "execution_count": 6,
     "metadata": {},
     "output_type": "execute_result"
    }
   ],
   "source": [
    "r\"\"\"\n",
    "# MNIST DATA\n",
    "# Choose the path where you will/have already saved the MNIST dataset\n",
    "data_dir = '/fp/projects01/ec232/data'\n",
    "\n",
    "# Get dataset\n",
    "ORIGINAL = True\n",
    "batch_size = 64 * 4\n",
    "INPUT_SHAPE = [28, 28, 1]\n",
    "N_CHANNELS = 1\n",
    "transform = transforms.ToTensor()\n",
    "train_set = MNIST(root=data_dir, train=True, download=True, transform=transform)\n",
    "N = len(train_set)\n",
    "\n",
    "# Create data loader\n",
    "train_loader = DataLoader(train_set, shuffle=True, batch_size=batch_size)\n",
    "train_set[0][0].size()\n",
    "\"\"\""
   ]
  },
  {
   "cell_type": "code",
   "execution_count": null,
   "id": "bb18312b-70b6-47cc-9d85-2c2221a45d64",
   "metadata": {},
   "outputs": [],
   "source": []
  },
  {
   "cell_type": "markdown",
   "id": "3ff9b0ad-f1d1-433d-bb05-2ac9be72e554",
   "metadata": {},
   "source": [
    "## Helper functions"
   ]
  },
  {
   "cell_type": "code",
   "execution_count": 7,
   "id": "4445f380-bb12-4074-835f-2fb6c425a901",
   "metadata": {},
   "outputs": [],
   "source": [
    "def reparameterize_gaussian(mean, std):\n",
    "    \"\"\"\n",
    "    Inputs:\n",
    "        mean : [torch.tensor] Mean vector. Shape: batch_size x z_dim.\n",
    "        std  : [torch.tensor] Standard deviation vection. Shape: batch_size x z_dim.\n",
    "    \n",
    "    Output:\n",
    "        z    : [torch.tensor] z sampled from the Normal distribution with mean and standard deviation given by the inputs. \n",
    "                              Shape: batch_size x z_dim.\n",
    "    \"\"\"\n",
    "\n",
    "    # Sample epsilon from N(0,I)\n",
    "    eps = torch.randn_like(std)\n",
    "\n",
    "    # Calculate z using reparameterization trick\n",
    "    z = mean + std*eps\n",
    "\n",
    "    return z"
   ]
  },
  {
   "cell_type": "code",
   "execution_count": 8,
   "id": "101f191e-7cc3-440f-b081-fb7595dfdf8a",
   "metadata": {},
   "outputs": [],
   "source": [
    "def get_vae_loss(x, x_hat, mean, logvar):\n",
    "    \"\"\"\n",
    "    Inputs:\n",
    "        x       : [torch.tensor] Original sample\n",
    "        x_hat   : [torch.tensor] Reproduced sample\n",
    "        mean    : [torch.tensor] Mean mu of the variational posterior given sample x\n",
    "        logvar  : [torch.tensor] log of the variance sigma^2 of the variational posterior given sample x\n",
    "    \"\"\"\n",
    "\n",
    "    # Recontruction loss\n",
    "    reconstruction_loss = ((x - x_hat)**2).sum()\n",
    "    #print(\"RL\", reconstruction_loss)\n",
    "    \n",
    "    # KL divergence\n",
    "    KL_divergence = -0.5 * torch.sum(1 + logvar - mean.pow(2) - logvar.exp())\n",
    "    #print(\"KL\", KL_divergence)\n",
    "    \n",
    "    # Get the total loss\n",
    "    kl_weight = 1\n",
    "    loss = reconstruction_loss + KL_divergence * kl_weight\n",
    "\n",
    "    return loss / 10"
   ]
  },
  {
   "cell_type": "code",
   "execution_count": 9,
   "id": "8820201d-d232-462c-aab9-b23927c8cbd5",
   "metadata": {},
   "outputs": [],
   "source": [
    "class ResidualLayer(nn.Module):\n",
    "    def __init__(self,\n",
    "                 in_channels: int,\n",
    "                 out_channels: int):\n",
    "        super(ResidualLayer, self).__init__()\n",
    "        self.resblock = nn.Sequential(nn.Conv2d(in_channels, out_channels,\n",
    "                                                kernel_size=3, padding=1, bias=False),\n",
    "                                      nn.ReLU(True),\n",
    "                                      nn.Conv2d(out_channels, out_channels,\n",
    "                                                kernel_size=1, bias=False))\n",
    "\n",
    "    def forward(self, input: Tensor) -> Tensor:\n",
    "        return input + self.resblock(input)"
   ]
  },
  {
   "cell_type": "markdown",
   "id": "1280e232-deba-422e-b76a-e8d9705b4d0b",
   "metadata": {},
   "source": [
    "# cVAE"
   ]
  },
  {
   "cell_type": "code",
   "execution_count": 10,
   "id": "e6b957db-cf91-492a-822c-dfa1c2392e4e",
   "metadata": {},
   "outputs": [],
   "source": [
    "class CEncoder(nn.Module):\n",
    "    \"\"\" Convolutional encoder for the CVAE. \"\"\"\n",
    "\n",
    "    def __init__(self, z_dim, n_classes, n_channels):\n",
    "        super().__init__()\n",
    "\n",
    "        feature_dim = 32 * 23 * 31\n",
    "        if ORIGINAL: feature_dim = 32 * 6 * 6  # TODO HOW DO I ARRIVE AT THESE NUMBERS?\n",
    "        self.conv1 = nn.Conv2d(n_channels + 1, 64, kernel_size=3, stride=2)\n",
    "        self.conv2 = nn.Conv2d(64, 32, kernel_size=3, stride=2)\n",
    "        self.mean_fc = nn.Linear(feature_dim, z_dim)\n",
    "        self.logvar_fc = nn.Linear(feature_dim, z_dim)\n",
    "        self.cls_token_fc = nn.Linear(feature_dim, n_classes)\n",
    "\n",
    "    def forward(self, x):\n",
    "        #x = torch.flatten(x)\n",
    "        #print(\"forward encoder:\", x.size())\n",
    "        x = F.relu(self.conv1(x))\n",
    "        x = F.relu(self.conv2(x))\n",
    "        #print(x.size())  # [64, 32, 23, 31]  # [64, 32, 6, 6]\n",
    "        x = x.flatten(1)\n",
    "        \n",
    "        # TODO also try out other priors\n",
    "        mean = self.mean_fc(x)\n",
    "        logvar = self.logvar_fc(x)\n",
    "        cls_token = self.cls_token_fc(x)\n",
    "\n",
    "        return mean, logvar, cls_token"
   ]
  },
  {
   "cell_type": "code",
   "execution_count": 11,
   "id": "9a14368b-90ab-4164-8b98-6fdcc92f876a",
   "metadata": {},
   "outputs": [],
   "source": [
    "class CDecoder(nn.Module):\n",
    "    \"\"\" Convolutional decoder for the CVAE. \"\"\"\n",
    "\n",
    "    def __init__(self, z_dim, n_classes, n_channels):\n",
    "        super().__init__()\n",
    "        \n",
    "        feature_dim = 32 * 23 * 31\n",
    "        if ORIGINAL: feature_dim = 32 * 6 * 6\n",
    "        self.fc = nn.Linear(z_dim + n_classes, feature_dim)\n",
    "        self.conv2 = nn.ConvTranspose2d(32, 64, kernel_size=3, stride=2)\n",
    "        self.conv1 = nn.ConvTranspose2d(64, n_channels, kernel_size=3, stride=2, output_padding=1)\n",
    "\n",
    "    def forward(self, z):\n",
    "        # print(\"dec z.size()\", z.size())\n",
    "        x = F.relu(self.fc(z))\n",
    "        if ORIGINAL: x = x.view(-1, 32, 6, 6) \n",
    "        else: x = x.view(-1, 32, 23, 31)\n",
    "        x = F.relu(self.conv2(x))\n",
    "        x = self.conv1(x)\n",
    "        x = torch.sigmoid(x)\n",
    "        \n",
    "        return x"
   ]
  },
  {
   "cell_type": "markdown",
   "id": "4d16aee1-2f2c-48fb-9ffe-09da117acc0e",
   "metadata": {},
   "source": [
    "## Extended cVAE"
   ]
  },
  {
   "cell_type": "code",
   "execution_count": 12,
   "id": "7c8bf0b4-e150-415e-b5d1-77c23a04f646",
   "metadata": {},
   "outputs": [],
   "source": [
    "class CEncoder(nn.Module):\n",
    "    \"\"\" Convolutional encoder for the CVAE. \"\"\"\n",
    "\n",
    "    def __init__(self, z_dim, n_classes, n_channels, hidden_dims=None):\n",
    "        super().__init__()\n",
    "\n",
    "        in_channels = n_channels + 1\n",
    "                \n",
    "        if hidden_dims is None:\n",
    "            hidden_dims = [32, 64, 128, 256, 512]\n",
    "            #hidden_dims = [32, 128, 512]\n",
    "\n",
    "        modules = []\n",
    "        for h_dim in hidden_dims:\n",
    "            modules.append(\n",
    "                nn.Sequential(\n",
    "                    nn.Conv2d(in_channels, out_channels=h_dim,\n",
    "                              kernel_size=3, stride=2, padding=1),\n",
    "                    nn.BatchNorm2d(h_dim),\n",
    "                    nn.LeakyReLU())\n",
    "            )\n",
    "            in_channels = h_dim\n",
    "        \n",
    "        self.encoder = nn.Sequential(*modules)\n",
    "        \n",
    "        feature_dim = 512 * 3 * 3\n",
    "        if ORIGINAL: feature_dim = 512 * 1 * 1\n",
    "        self.mean_fc = nn.Linear(feature_dim, z_dim)\n",
    "        self.logvar_fc = nn.Linear(feature_dim, z_dim)\n",
    "        self.cls_token_fc = nn.Linear(feature_dim, n_classes)\n",
    "\n",
    "    def forward(self, x):\n",
    "        x = self.encoder(x)\n",
    "        #print(\"!!! feature_dim:\", x.size())  # [64, 32, 23, 31]  # [64, 32, 6, 6]\n",
    "        x = x.flatten(1)\n",
    "        \n",
    "        # TODO also try out other priors\n",
    "        mean = self.mean_fc(x)\n",
    "        logvar = self.logvar_fc(x)\n",
    "        cls_token = self.cls_token_fc(x)\n",
    "\n",
    "        return mean, logvar, cls_token"
   ]
  },
  {
   "cell_type": "code",
   "execution_count": 13,
   "id": "341f986c-602f-45bb-ac52-35d6dd83decd",
   "metadata": {},
   "outputs": [],
   "source": [
    "class CDecoder(nn.Module):\n",
    "    \"\"\" Convolutional decoder for the CVAE. \"\"\"\n",
    "\n",
    "    def __init__(self, z_dim, n_classes, n_channels, hidden_dims=None):\n",
    "        super().__init__()\n",
    "        \n",
    "        feature_dim = 512 * 3 * 3\n",
    "        if ORIGINAL: feature_dim = 512 * 1 * 1\n",
    "        self.fc = nn.Linear(z_dim + n_classes, feature_dim)\n",
    "        \n",
    "        if hidden_dims is None:\n",
    "            hidden_dims = [32, 64, 128, 256, 512]\n",
    "            #hidden_dims = [32, 128, 512]\n",
    "        hidden_dims.reverse()\n",
    "        \n",
    "        padding_last_layer = 1\n",
    "        if ORIGINAL: padding_last_layer = 3\n",
    "        modules = []\n",
    "        for i in range(len(hidden_dims) - 1):\n",
    "            modules.append(\n",
    "                nn.Sequential(\n",
    "                    nn.ConvTranspose2d(hidden_dims[i],\n",
    "                                       hidden_dims[i + 1],\n",
    "                                       kernel_size=3,\n",
    "                                       stride=2,\n",
    "                                       padding=1,\n",
    "                                       output_padding=1),\n",
    "                    nn.BatchNorm2d(hidden_dims[i + 1]),\n",
    "                    nn.LeakyReLU())\n",
    "            )\n",
    "        self.decoder = nn.Sequential(*modules)       \n",
    "        \n",
    "        self.final_layer = nn.Sequential(\n",
    "                    nn.ConvTranspose2d(hidden_dims[-1],\n",
    "                                       hidden_dims[-1],\n",
    "                                       kernel_size=3,\n",
    "                                       stride=2,\n",
    "                                       padding=1,\n",
    "                                       output_padding=1),\n",
    "                    nn.BatchNorm2d(hidden_dims[-1]),\n",
    "                    nn.LeakyReLU(),\n",
    "                    nn.ConvTranspose2d(hidden_dims[-1], \n",
    "                              out_channels=n_channels,\n",
    "                              kernel_size=3, \n",
    "                              padding=padding_last_layer),\n",
    "                    nn.Tanh())\n",
    "\n",
    "    def forward(self, z):\n",
    "        x = self.fc(z)\n",
    "        if ORIGINAL:  x = x.view(-1, 512, 1, 1)\n",
    "        else: x = x.view(-1, 512, 3, 3)\n",
    "        x = self.decoder(x)\n",
    "        # print(\"after decoder:\", x.size())\n",
    "        x = self.final_layer(x)\n",
    "        # print(\"after final_layer:\", x.size())\n",
    "        \n",
    "        return x"
   ]
  },
  {
   "cell_type": "markdown",
   "id": "a9c279a2-4bbe-4036-a79f-8e1bef78f4eb",
   "metadata": {},
   "source": [
    "## Declare cVAE"
   ]
  },
  {
   "cell_type": "code",
   "execution_count": 14,
   "id": "a0689a96",
   "metadata": {},
   "outputs": [],
   "source": [
    "class CVAE(nn.Module):\n",
    "    \"\"\" Conditional Variational Auto-Encoder class. \"\"\"\n",
    "\n",
    "    def __init__(self, z_dim, n_classes, n_channels=1, img_size=[28,28]):\n",
    "        super().__init__()\n",
    "        self.z_dim = z_dim\n",
    "        self.n_classes = n_classes\n",
    "        self.n_channels = n_channels\n",
    "        self.img_size = img_size\n",
    "\n",
    "        self.encoder = CEncoder(z_dim, n_classes, n_channels)\n",
    "        self.decoder = CDecoder(z_dim, n_classes, n_channels)\n",
    "\n",
    "        # Add learnable class token\n",
    "        self.cls_param = nn.Parameter(torch.zeros(n_classes, *img_size))\n",
    "\n",
    "    def get_cls_emb(self, c):\n",
    "        return self.cls_param[c].unsqueeze(1)\n",
    "\n",
    "    def forward(self, x, c):\n",
    "        \"\"\"\n",
    "        Args:\n",
    "            x   : [torch.Tensor] Image input of shape [batch_size, n_channels, *img_size]\n",
    "            c   : [torch.Tensor] Class labels for x of shape [batch_size], where the class in indicated by a\n",
    "        \"\"\"\n",
    "\n",
    "        # Get cls embedding\n",
    "        cls_emb = self.get_cls_emb(c)\n",
    "\n",
    "        # Concatenate cls embedding to the input\n",
    "        #print(\"x.size() =\", x.size())\n",
    "        #print(\"cls_emb.size() =\", cls_emb.size())\n",
    "        x = torch.cat((x, cls_emb), dim=1)\n",
    "\n",
    "        # Get the mean, logvar, and cls token from the encoder\n",
    "        mean, logvar, cls_token = self.encoder(x)\n",
    "\n",
    "        # Calculate the standard deviation. Note: in log-space, squareroot is divide by two\n",
    "        std = torch.exp(logvar / 2)\n",
    "\n",
    "        # Sample the latent using the reparameterization trick\n",
    "        z = reparameterize_gaussian(mean, std)\n",
    "        # print(\"######\")\n",
    "        # print(\"z.size() =\", z.size())\n",
    "        \n",
    "        # Concatenate cls token to z\n",
    "        z = torch.cat((z, F.softmax(cls_token, dim=1)), dim=1)\n",
    "        \n",
    "        # Get reconstructed x from the decoder\n",
    "        x_hat = self.decoder(z)\n",
    "        \n",
    "        return x, x_hat, mean, logvar, cls_token"
   ]
  },
  {
   "cell_type": "markdown",
   "id": "7187b3b5-7dcb-4cec-badf-05eb02b80725",
   "metadata": {},
   "source": [
    "## Train model"
   ]
  },
  {
   "cell_type": "code",
   "execution_count": 15,
   "id": "68a71bd1",
   "metadata": {
    "tags": []
   },
   "outputs": [
    {
     "name": "stderr",
     "output_type": "stream",
     "text": [
      "Epoch [1/25]: 100%|██████████| 24/24 [00:30<00:00,  1.28s/it, loss=47]  \n"
     ]
    },
    {
     "name": "stdout",
     "output_type": "stream",
     "text": [
      "Total loss: 1222.9691718969095\n"
     ]
    },
    {
     "name": "stderr",
     "output_type": "stream",
     "text": [
      "Epoch [2/25]: 100%|██████████| 24/24 [00:28<00:00,  1.18s/it, loss=42.4]\n"
     ]
    },
    {
     "name": "stdout",
     "output_type": "stream",
     "text": [
      "Total loss: 1072.555681640382\n"
     ]
    },
    {
     "name": "stderr",
     "output_type": "stream",
     "text": [
      "Epoch [3/25]: 100%|██████████| 24/24 [00:28<00:00,  1.18s/it, loss=36.1]\n"
     ]
    },
    {
     "name": "stdout",
     "output_type": "stream",
     "text": [
      "Total loss: 938.4434882530477\n"
     ]
    },
    {
     "name": "stderr",
     "output_type": "stream",
     "text": [
      "Epoch [4/25]: 100%|██████████| 24/24 [00:27<00:00,  1.17s/it, loss=31.4]\n"
     ]
    },
    {
     "name": "stdout",
     "output_type": "stream",
     "text": [
      "Total loss: 813.2457742348446\n"
     ]
    },
    {
     "name": "stderr",
     "output_type": "stream",
     "text": [
      "Epoch [5/25]: 100%|██████████| 24/24 [00:29<00:00,  1.22s/it, loss=26.6]\n"
     ]
    },
    {
     "name": "stdout",
     "output_type": "stream",
     "text": [
      "Total loss: 693.0646948994836\n"
     ]
    },
    {
     "name": "stderr",
     "output_type": "stream",
     "text": [
      "Epoch [6/25]: 100%|██████████| 24/24 [00:29<00:00,  1.24s/it, loss=22]  \n"
     ]
    },
    {
     "name": "stdout",
     "output_type": "stream",
     "text": [
      "Total loss: 580.869300053904\n"
     ]
    },
    {
     "name": "stderr",
     "output_type": "stream",
     "text": [
      "Epoch [7/25]: 100%|██████████| 24/24 [00:29<00:00,  1.22s/it, loss=19]  \n"
     ]
    },
    {
     "name": "stdout",
     "output_type": "stream",
     "text": [
      "Total loss: 484.04609878694674\n"
     ]
    },
    {
     "name": "stderr",
     "output_type": "stream",
     "text": [
      "Epoch [8/25]: 100%|██████████| 24/24 [00:29<00:00,  1.21s/it, loss=16]  \n"
     ]
    },
    {
     "name": "stdout",
     "output_type": "stream",
     "text": [
      "Total loss: 413.4567038637054\n"
     ]
    },
    {
     "name": "stderr",
     "output_type": "stream",
     "text": [
      "Epoch [9/25]: 100%|██████████| 24/24 [00:29<00:00,  1.25s/it, loss=14]  \n"
     ]
    },
    {
     "name": "stdout",
     "output_type": "stream",
     "text": [
      "Total loss: 365.32087103787177\n"
     ]
    },
    {
     "name": "stderr",
     "output_type": "stream",
     "text": [
      "Epoch [10/25]: 100%|██████████| 24/24 [00:30<00:00,  1.27s/it, loss=13.1]\n"
     ]
    },
    {
     "name": "stdout",
     "output_type": "stream",
     "text": [
      "Total loss: 332.4026621742606\n"
     ]
    },
    {
     "name": "stderr",
     "output_type": "stream",
     "text": [
      "Epoch [11/25]: 100%|██████████| 24/24 [00:28<00:00,  1.21s/it, loss=12.4]\n"
     ]
    },
    {
     "name": "stdout",
     "output_type": "stream",
     "text": [
      "Total loss: 307.70969168403616\n"
     ]
    },
    {
     "name": "stderr",
     "output_type": "stream",
     "text": [
      "Epoch [12/25]: 100%|██████████| 24/24 [00:29<00:00,  1.22s/it, loss=11.6]\n"
     ]
    },
    {
     "name": "stdout",
     "output_type": "stream",
     "text": [
      "Total loss: 289.4662256795896\n"
     ]
    },
    {
     "name": "stderr",
     "output_type": "stream",
     "text": [
      "Epoch [13/25]: 100%|██████████| 24/24 [00:28<00:00,  1.18s/it, loss=11.3]\n"
     ]
    },
    {
     "name": "stdout",
     "output_type": "stream",
     "text": [
      "Total loss: 274.9684812203715\n"
     ]
    },
    {
     "name": "stderr",
     "output_type": "stream",
     "text": [
      "Epoch [14/25]: 100%|██████████| 24/24 [00:29<00:00,  1.22s/it, loss=10.6]\n"
     ]
    },
    {
     "name": "stdout",
     "output_type": "stream",
     "text": [
      "Total loss: 263.0594315975489\n"
     ]
    },
    {
     "name": "stderr",
     "output_type": "stream",
     "text": [
      "Epoch [15/25]: 100%|██████████| 24/24 [00:28<00:00,  1.19s/it, loss=10.6]\n"
     ]
    },
    {
     "name": "stdout",
     "output_type": "stream",
     "text": [
      "Total loss: 252.6300822784542\n"
     ]
    },
    {
     "name": "stderr",
     "output_type": "stream",
     "text": [
      "Epoch [16/25]: 100%|██████████| 24/24 [00:29<00:00,  1.21s/it, loss=10.8]\n"
     ]
    },
    {
     "name": "stdout",
     "output_type": "stream",
     "text": [
      "Total loss: 245.40508824691642\n"
     ]
    },
    {
     "name": "stderr",
     "output_type": "stream",
     "text": [
      "Epoch [17/25]: 100%|██████████| 24/24 [00:40<00:00,  1.69s/it, loss=9.7] \n"
     ]
    },
    {
     "name": "stdout",
     "output_type": "stream",
     "text": [
      "Total loss: 237.18552539377873\n"
     ]
    },
    {
     "name": "stderr",
     "output_type": "stream",
     "text": [
      "Epoch [18/25]: 100%|██████████| 24/24 [00:42<00:00,  1.77s/it, loss=9.27]\n"
     ]
    },
    {
     "name": "stdout",
     "output_type": "stream",
     "text": [
      "Total loss: 230.4366478736213\n"
     ]
    },
    {
     "name": "stderr",
     "output_type": "stream",
     "text": [
      "Epoch [19/25]: 100%|██████████| 24/24 [00:32<00:00,  1.34s/it, loss=9.21]\n"
     ]
    },
    {
     "name": "stdout",
     "output_type": "stream",
     "text": [
      "Total loss: 225.44998035836034\n"
     ]
    },
    {
     "name": "stderr",
     "output_type": "stream",
     "text": [
      "Epoch [20/25]: 100%|██████████| 24/24 [00:29<00:00,  1.24s/it, loss=9.12]\n"
     ]
    },
    {
     "name": "stdout",
     "output_type": "stream",
     "text": [
      "Total loss: 220.42621355216085\n"
     ]
    },
    {
     "name": "stderr",
     "output_type": "stream",
     "text": [
      "Epoch [21/25]: 100%|██████████| 24/24 [00:29<00:00,  1.22s/it, loss=9.05]\n"
     ]
    },
    {
     "name": "stdout",
     "output_type": "stream",
     "text": [
      "Total loss: 215.94090359307094\n"
     ]
    },
    {
     "name": "stderr",
     "output_type": "stream",
     "text": [
      "Epoch [22/25]: 100%|██████████| 24/24 [00:29<00:00,  1.21s/it, loss=8.81]\n"
     ]
    },
    {
     "name": "stdout",
     "output_type": "stream",
     "text": [
      "Total loss: 211.90746022030777\n"
     ]
    },
    {
     "name": "stderr",
     "output_type": "stream",
     "text": [
      "Epoch [23/25]: 100%|██████████| 24/24 [00:30<00:00,  1.25s/it, loss=8.38]\n"
     ]
    },
    {
     "name": "stdout",
     "output_type": "stream",
     "text": [
      "Total loss: 208.00913135047136\n"
     ]
    },
    {
     "name": "stderr",
     "output_type": "stream",
     "text": [
      "Epoch [24/25]: 100%|██████████| 24/24 [00:29<00:00,  1.21s/it, loss=8.57]\n"
     ]
    },
    {
     "name": "stdout",
     "output_type": "stream",
     "text": [
      "Total loss: 205.00064350243858\n"
     ]
    },
    {
     "name": "stderr",
     "output_type": "stream",
     "text": [
      "Epoch [25/25]: 100%|██████████| 24/24 [00:28<00:00,  1.20s/it, loss=8.24]"
     ]
    },
    {
     "name": "stdout",
     "output_type": "stream",
     "text": [
      "Total loss: 201.80623518564138\n"
     ]
    },
    {
     "name": "stderr",
     "output_type": "stream",
     "text": [
      "\n"
     ]
    }
   ],
   "source": [
    "# Initialize the VAE\n",
    "z_dim = 128\n",
    "conditioned_model = CVAE(z_dim, n_classes=10, n_channels=N_CHANNELS, img_size=INPUT_SHAPE[:2]).to(device)\n",
    "\n",
    "# Feel free to tweak the training parameters\n",
    "epochs = 25\n",
    "lr = 0.00001\n",
    "optimizer = Adam(conditioned_model.parameters(), lr=lr)\n",
    "\n",
    "# Train for a few epochs\n",
    "conditioned_model.train()\n",
    "\n",
    "losses = []\n",
    "\n",
    "# TODO USE: with traindata.shufflecontext(): 2 # do training loop ...\n",
    "for epoch in range(epochs):\n",
    "    train_bar = tqdm(iterable=train_loader)\n",
    "    total_loss = 0\n",
    "    for i, (x, c) in enumerate(train_bar):\n",
    "        x = x.to(device)\n",
    "        c = c.to(device)\n",
    "        # Get x_hat, mean, logvar,and cls_token from the conditioned_model\n",
    "        x, x_hat, mean, logvar, cls_token = conditioned_model.forward(x, c)\n",
    "        x = x[:, :N_CHANNELS, :, :] # excluding cls_emebdding\n",
    "\n",
    "        # Get vae loss\n",
    "        #print(\"x.size() =\", x.size())\n",
    "        #print(\"x_hat.size() =\", x_hat.size())        \n",
    "        vae_loss = get_vae_loss(x, x_hat, mean, logvar)\n",
    "\n",
    "        # Get cross entropy loss for the cls token\n",
    "        # print(\"cls_token.size() =\", cls_token.size())\n",
    "        # print(\"OHE\", F.one_hot(c, num_classes=10).double().size())\n",
    "        cls_loss = F.cross_entropy(cls_token, F.one_hot(c, num_classes=10).double(), reduction='sum')\n",
    "\n",
    "        # Add the losses as a weighted sum. NB: We weight the cls_loss by 10 here, but feel free to tweak it.\n",
    "        loss = vae_loss + cls_loss  #* 10 # reducing vae_loss instead\n",
    "        total_loss += loss / len(x)\n",
    "        \n",
    "        # Update model parameters based on loss\n",
    "        optimizer.zero_grad()\n",
    "        loss.backward()\n",
    "        optimizer.step()\n",
    "        \n",
    "        train_bar.set_description(f'Epoch [{epoch+1}/{epochs}]')\n",
    "        train_bar.set_postfix(loss = loss.item() / len(x))\n",
    "    losses.append(total_loss.item())\n",
    "    print(\"Total loss:\", losses[-1])"
   ]
  },
  {
   "cell_type": "code",
   "execution_count": 16,
   "id": "38472171-f983-4254-8634-85a71cb3ae95",
   "metadata": {},
   "outputs": [
    {
     "data": {
      "text/plain": [
       "[<matplotlib.lines.Line2D at 0x151cbb6b2500>]"
      ]
     },
     "execution_count": 16,
     "metadata": {},
     "output_type": "execute_result"
    },
    {
     "data": {
      "image/png": "[encoded data removed]",
      "text/plain": [
       "<Figure size 432x288 with 1 Axes>"
      ]
     },
     "metadata": {
      "needs_background": "light"
     },
     "output_type": "display_data"
    }
   ],
   "source": [
    "# Print convergence plot\n",
    "plt.plot(losses, \"-bo\")"
   ]
  },
  {
   "cell_type": "code",
   "execution_count": 26,
   "id": "28500ec4-ead5-4023-a326-5aace7c79f68",
   "metadata": {},
   "outputs": [
    {
     "data": {
      "image/png": "[encoded data removed]",
      "text/plain": [
       "<Figure size 360x360 with 1 Axes>"
      ]
     },
     "metadata": {
      "needs_background": "light"
     },
     "output_type": "display_data"
    }
   ],
   "source": [
    "# Put model in evalulation mode\n",
    "conditioned_model.eval()\n",
    "\n",
    "# Select a class label\n",
    "cls_label = 2\n",
    "\n",
    "with torch.no_grad():\n",
    "    # Sample noise from N(0,I)\n",
    "    # TODO also try out other priors\n",
    "    z = torch.randn(1, z_dim).to(device)\n",
    "\n",
    "    # Make a one-hot for the selected class label, which will act as the cls token\n",
    "    cls_token = F.one_hot(torch.tensor(cls_label).unsqueeze(0), num_classes=10).to(device)\n",
    "\n",
    "    # Concatenate z and the cls token\n",
    "    z = torch.cat((z, cls_token), dim=1)  # TODO prob this should be saved acc to instructions!\n",
    "\n",
    "    # Generate new image with the decoder\n",
    "    x_hat = conditioned_model.decoder(z)\n",
    "    x_hat = x_hat.squeeze(0).cpu().detach()\n",
    "\n",
    "# Show generated image\n",
    "plt.figure(figsize=(5,5))\n",
    "x_hat_permuted = x_hat.permute(1, 2 ,0)\n",
    "#plt.imshow((x_hat_permuted+1)*.5, cmap=plt.get_cmap('gray'))\n",
    "plt.imshow(x_hat_permuted, cmap=plt.get_cmap('gray'))\n",
    "plt.title(f\"A generated image of class={cls_label}\")\n",
    "plt.axis('off')\n",
    "plt.show()"
   ]
  },
  {
   "cell_type": "code",
   "execution_count": 27,
   "id": "fa2879e4-7e25-4011-a7f8-ee864644b5ea",
   "metadata": {},
   "outputs": [
    {
     "name": "stderr",
     "output_type": "stream",
     "text": [
      "Epoch [1/25]: 100%|██████████| 24/24 [00:30<00:00,  1.26s/it, loss=7.56]\n"
     ]
    },
    {
     "name": "stdout",
     "output_type": "stream",
     "text": [
      "Total loss: 192.46822849247005\n"
     ]
    },
    {
     "name": "stderr",
     "output_type": "stream",
     "text": [
      "Epoch [2/25]: 100%|██████████| 24/24 [00:29<00:00,  1.22s/it, loss=7.47]\n"
     ]
    },
    {
     "name": "stdout",
     "output_type": "stream",
     "text": [
      "Total loss: 185.56736832457995\n"
     ]
    },
    {
     "name": "stderr",
     "output_type": "stream",
     "text": [
      "Epoch [3/25]: 100%|██████████| 24/24 [00:29<00:00,  1.22s/it, loss=7.56]\n"
     ]
    },
    {
     "name": "stdout",
     "output_type": "stream",
     "text": [
      "Total loss: 183.09136972908996\n"
     ]
    },
    {
     "name": "stderr",
     "output_type": "stream",
     "text": [
      "Epoch [4/25]: 100%|██████████| 24/24 [00:29<00:00,  1.25s/it, loss=7.44]\n"
     ]
    },
    {
     "name": "stdout",
     "output_type": "stream",
     "text": [
      "Total loss: 181.0191375224053\n"
     ]
    },
    {
     "name": "stderr",
     "output_type": "stream",
     "text": [
      "Epoch [5/25]: 100%|██████████| 24/24 [00:29<00:00,  1.23s/it, loss=7.61]\n"
     ]
    },
    {
     "name": "stdout",
     "output_type": "stream",
     "text": [
      "Total loss: 179.7202076530084\n"
     ]
    },
    {
     "name": "stderr",
     "output_type": "stream",
     "text": [
      "Epoch [6/25]: 100%|██████████| 24/24 [00:29<00:00,  1.25s/it, loss=7.52]\n"
     ]
    },
    {
     "name": "stdout",
     "output_type": "stream",
     "text": [
      "Total loss: 178.04122784632324\n"
     ]
    },
    {
     "name": "stderr",
     "output_type": "stream",
     "text": [
      "Epoch [7/25]: 100%|██████████| 24/24 [00:31<00:00,  1.29s/it, loss=7.28]\n"
     ]
    },
    {
     "name": "stdout",
     "output_type": "stream",
     "text": [
      "Total loss: 176.92295691008414\n"
     ]
    },
    {
     "name": "stderr",
     "output_type": "stream",
     "text": [
      "Epoch [8/25]: 100%|██████████| 24/24 [00:29<00:00,  1.23s/it, loss=7.38]\n"
     ]
    },
    {
     "name": "stdout",
     "output_type": "stream",
     "text": [
      "Total loss: 175.912993389714\n"
     ]
    },
    {
     "name": "stderr",
     "output_type": "stream",
     "text": [
      "Epoch [9/25]: 100%|██████████| 24/24 [00:29<00:00,  1.24s/it, loss=7.26]\n"
     ]
    },
    {
     "name": "stdout",
     "output_type": "stream",
     "text": [
      "Total loss: 174.9484075319654\n"
     ]
    },
    {
     "name": "stderr",
     "output_type": "stream",
     "text": [
      "Epoch [10/25]: 100%|██████████| 24/24 [00:29<00:00,  1.21s/it, loss=7.27]\n"
     ]
    },
    {
     "name": "stdout",
     "output_type": "stream",
     "text": [
      "Total loss: 173.66905414213292\n"
     ]
    },
    {
     "name": "stderr",
     "output_type": "stream",
     "text": [
      "Epoch [11/25]: 100%|██████████| 24/24 [00:29<00:00,  1.22s/it, loss=7.23]\n"
     ]
    },
    {
     "name": "stdout",
     "output_type": "stream",
     "text": [
      "Total loss: 172.90099945950456\n"
     ]
    },
    {
     "name": "stderr",
     "output_type": "stream",
     "text": [
      "Epoch [12/25]: 100%|██████████| 24/24 [00:29<00:00,  1.24s/it, loss=7.08]\n"
     ]
    },
    {
     "name": "stdout",
     "output_type": "stream",
     "text": [
      "Total loss: 172.05062670367104\n"
     ]
    },
    {
     "name": "stderr",
     "output_type": "stream",
     "text": [
      "Epoch [13/25]: 100%|██████████| 24/24 [00:30<00:00,  1.29s/it, loss=7.28]\n"
     ]
    },
    {
     "name": "stdout",
     "output_type": "stream",
     "text": [
      "Total loss: 171.49617884106868\n"
     ]
    },
    {
     "name": "stderr",
     "output_type": "stream",
     "text": [
      "Epoch [14/25]: 100%|██████████| 24/24 [00:29<00:00,  1.22s/it, loss=7.19]\n"
     ]
    },
    {
     "name": "stdout",
     "output_type": "stream",
     "text": [
      "Total loss: 170.46800978729567\n"
     ]
    },
    {
     "name": "stderr",
     "output_type": "stream",
     "text": [
      "Epoch [15/25]: 100%|██████████| 24/24 [00:30<00:00,  1.27s/it, loss=7.01]\n"
     ]
    },
    {
     "name": "stdout",
     "output_type": "stream",
     "text": [
      "Total loss: 169.93628848114582\n"
     ]
    },
    {
     "name": "stderr",
     "output_type": "stream",
     "text": [
      "Epoch [16/25]: 100%|██████████| 24/24 [00:29<00:00,  1.24s/it, loss=7.12]\n"
     ]
    },
    {
     "name": "stdout",
     "output_type": "stream",
     "text": [
      "Total loss: 169.24930181873165\n"
     ]
    },
    {
     "name": "stderr",
     "output_type": "stream",
     "text": [
      "Epoch [17/25]: 100%|██████████| 24/24 [00:29<00:00,  1.24s/it, loss=6.88]\n"
     ]
    },
    {
     "name": "stdout",
     "output_type": "stream",
     "text": [
      "Total loss: 168.38182117038272\n"
     ]
    },
    {
     "name": "stderr",
     "output_type": "stream",
     "text": [
      "Epoch [18/25]: 100%|██████████| 24/24 [00:30<00:00,  1.26s/it, loss=6.55]\n"
     ]
    },
    {
     "name": "stdout",
     "output_type": "stream",
     "text": [
      "Total loss: 167.49054485928667\n"
     ]
    },
    {
     "name": "stderr",
     "output_type": "stream",
     "text": [
      "Epoch [19/25]: 100%|██████████| 24/24 [00:29<00:00,  1.22s/it, loss=6.86]\n"
     ]
    },
    {
     "name": "stdout",
     "output_type": "stream",
     "text": [
      "Total loss: 167.1767656081356\n"
     ]
    },
    {
     "name": "stderr",
     "output_type": "stream",
     "text": [
      "Epoch [20/25]: 100%|██████████| 24/24 [00:29<00:00,  1.22s/it, loss=7.01]\n"
     ]
    },
    {
     "name": "stdout",
     "output_type": "stream",
     "text": [
      "Total loss: 166.42218654947024\n"
     ]
    },
    {
     "name": "stderr",
     "output_type": "stream",
     "text": [
      "Epoch [21/25]: 100%|██████████| 24/24 [00:30<00:00,  1.25s/it, loss=7.03]\n"
     ]
    },
    {
     "name": "stdout",
     "output_type": "stream",
     "text": [
      "Total loss: 165.91543338417873\n"
     ]
    },
    {
     "name": "stderr",
     "output_type": "stream",
     "text": [
      "Epoch [22/25]: 100%|██████████| 24/24 [00:29<00:00,  1.21s/it, loss=6.84]\n"
     ]
    },
    {
     "name": "stdout",
     "output_type": "stream",
     "text": [
      "Total loss: 165.28124077619785\n"
     ]
    },
    {
     "name": "stderr",
     "output_type": "stream",
     "text": [
      "Epoch [23/25]: 100%|██████████| 24/24 [00:28<00:00,  1.21s/it, loss=6.89]\n"
     ]
    },
    {
     "name": "stdout",
     "output_type": "stream",
     "text": [
      "Total loss: 164.84071435365226\n"
     ]
    },
    {
     "name": "stderr",
     "output_type": "stream",
     "text": [
      "Epoch [24/25]: 100%|██████████| 24/24 [00:29<00:00,  1.22s/it, loss=6.98]\n"
     ]
    },
    {
     "name": "stdout",
     "output_type": "stream",
     "text": [
      "Total loss: 164.1474874230667\n"
     ]
    },
    {
     "name": "stderr",
     "output_type": "stream",
     "text": [
      "Epoch [25/25]: 100%|██████████| 24/24 [00:28<00:00,  1.21s/it, loss=7.06]"
     ]
    },
    {
     "name": "stdout",
     "output_type": "stream",
     "text": [
      "Total loss: 163.65281386437294\n"
     ]
    },
    {
     "name": "stderr",
     "output_type": "stream",
     "text": [
      "\n"
     ]
    }
   ],
   "source": [
    "for epoch in range(epochs):\n",
    "    train_bar = tqdm(iterable=train_loader)\n",
    "    total_loss = 0\n",
    "    for i, (x, c) in enumerate(train_bar):\n",
    "        x = x.to(device)\n",
    "        c = c.to(device)\n",
    "        # Get x_hat, mean, logvar,and cls_token from the conditioned_model\n",
    "        x, x_hat, mean, logvar, cls_token = conditioned_model.forward(x, c)\n",
    "        x = x[:, :N_CHANNELS, :, :] # excluding cls_emebdding\n",
    "\n",
    "        # Get vae loss\n",
    "        #print(\"x.size() =\", x.size())\n",
    "        #print(\"x_hat.size() =\", x_hat.size())        \n",
    "        vae_loss = get_vae_loss(x, x_hat, mean, logvar)\n",
    "\n",
    "        # Get cross entropy loss for the cls token\n",
    "        # print(\"cls_token.size() =\", cls_token.size())\n",
    "        # print(\"OHE\", F.one_hot(c, num_classes=10).double().size())\n",
    "        cls_loss = F.cross_entropy(cls_token, F.one_hot(c, num_classes=10).double(), reduction='sum')\n",
    "\n",
    "        # Add the losses as a weighted sum. NB: We weight the cls_loss by 10 here, but feel free to tweak it.\n",
    "        loss = vae_loss + cls_loss  #* 10 # reducing vae_loss instead\n",
    "        total_loss += loss / len(x)\n",
    "        \n",
    "        # Update model parameters based on loss\n",
    "        optimizer.zero_grad()\n",
    "        loss.backward()\n",
    "        optimizer.step()\n",
    "        \n",
    "        train_bar.set_description(f'Epoch [{epoch+1}/{epochs}]')\n",
    "        train_bar.set_postfix(loss = loss.item() / len(x))\n",
    "    losses.append(total_loss.item())\n",
    "    print(\"Total loss:\", losses[-1])"
   ]
  },
  {
   "cell_type": "code",
   "execution_count": 28,
   "id": "4c4240ae-d6d9-4a28-a966-c5852a601adb",
   "metadata": {},
   "outputs": [
    {
     "data": {
      "text/plain": [
       "[<matplotlib.lines.Line2D at 0x151c744f98d0>]"
      ]
     },
     "execution_count": 28,
     "metadata": {},
     "output_type": "execute_result"
    },
    {
     "data": {
      "image/png": "[encoded data removed]",
      "text/plain": [
       "<Figure size 432x288 with 1 Axes>"
      ]
     },
     "metadata": {
      "needs_background": "light"
     },
     "output_type": "display_data"
    }
   ],
   "source": [
    "# Print convergence plot\n",
    "plt.plot(losses, \"-bo\")"
   ]
  },
  {
   "cell_type": "code",
   "execution_count": 29,
   "id": "91512ee2-5b5e-489d-9970-608910eef429",
   "metadata": {
    "tags": []
   },
   "outputs": [],
   "source": [
    "# This doesn't work\n",
    "# x.size() = torch.Size([64, 4, 96, 128])\n",
    "# x_hat.size() = torch.Size([64, 3, 96, 128])\n",
    "#x - x_hat"
   ]
  },
  {
   "cell_type": "markdown",
   "id": "5efee4a0",
   "metadata": {},
   "source": [
    "To generate new images conditioned on a class label, we sample some noise $z \\sim N(0,I)$ and concatenate the one-hot vector of the class label we want to condition on. Then we use the decoder to generate a new image.\n",
    "If your CVAE model was trained correctly, the cell below should generate new images of the selected class."
   ]
  },
  {
   "cell_type": "markdown",
   "id": "4ebc90c8-3e4b-488c-b5e9-f0c1b66a0e4f",
   "metadata": {},
   "source": [
    "## Get generations"
   ]
  },
  {
   "cell_type": "code",
   "execution_count": 33,
   "id": "dcf3103e-7204-41a7-8f87-de09e1e7ef5a",
   "metadata": {},
   "outputs": [
    {
     "data": {
      "image/png": "[encoded data removed]",
      "text/plain": [
       "<Figure size 360x360 with 1 Axes>"
      ]
     },
     "metadata": {
      "needs_background": "light"
     },
     "output_type": "display_data"
    }
   ],
   "source": [
    "# Put model in evalulation mode\n",
    "conditioned_model.eval()\n",
    "\n",
    "# Select a class label\n",
    "cls_label = 2\n",
    "\n",
    "with torch.no_grad():\n",
    "    # Sample noise from N(0,I)\n",
    "    # TODO also try out other priors\n",
    "    z = torch.randn(1, z_dim).to(device)\n",
    "\n",
    "    # Make a one-hot for the selected class label, which will act as the cls token\n",
    "    cls_token = F.one_hot(torch.tensor(cls_label).unsqueeze(0), num_classes=10).to(device)\n",
    "\n",
    "    # Concatenate z and the cls token\n",
    "    z = torch.cat((z, cls_token), dim=1)  # TODO prob this should be saved acc to instructions!\n",
    "\n",
    "    # Generate new image with the decoder\n",
    "    x_hat = conditioned_model.decoder(z)\n",
    "    x_hat = x_hat.squeeze(0).cpu().detach()\n",
    "\n",
    "# Show generated image\n",
    "plt.figure(figsize=(5,5))\n",
    "x_hat_permuted = x_hat.permute(1, 2 ,0)\n",
    "#plt.imshow((x_hat_permuted+1)*.5, cmap=plt.get_cmap('gray'))\n",
    "plt.imshow(x_hat_permuted, cmap=plt.get_cmap('gray'))\n",
    "plt.title(f\"A generated image of class={cls_label}\")\n",
    "plt.axis('off')\n",
    "plt.show()"
   ]
  },
  {
   "cell_type": "code",
   "execution_count": 24,
   "id": "52ee98dc-f294-4414-9f3c-55c540067ff7",
   "metadata": {},
   "outputs": [
    {
     "name": "stdout",
     "output_type": "stream",
     "text": [
      "Preference score: 1\n"
     ]
    },
    {
     "data": {
      "image/png": "[encoded data removed]",
      "text/plain": [
       "<Figure size 432x288 with 1 Axes>"
      ]
     },
     "metadata": {
      "needs_background": "light"
     },
     "output_type": "display_data"
    }
   ],
   "source": [
    "print(\"Preference score:\", train_set[i][1])\n",
    "plt.imshow(train_set[i][0].permute(1,2,0), cmap=plt.get_cmap('gray'))\n",
    "plt.show()\n",
    "i += 1"
   ]
  },
  {
   "cell_type": "code",
   "execution_count": null,
   "id": "0a8c3187-18e2-48d0-ab72-c68c64253de6",
   "metadata": {},
   "outputs": [
    {
     "name": "stderr",
     "output_type": "stream",
     "text": [
      "Epoch [1/25]: 100%|██████████| 24/24 [00:29<00:00,  1.21s/it, loss=6.95]\n"
     ]
    },
    {
     "name": "stdout",
     "output_type": "stream",
     "text": [
      "Total loss: 162.90423343769675\n"
     ]
    },
    {
     "name": "stderr",
     "output_type": "stream",
     "text": [
      "Epoch [2/25]: 100%|██████████| 24/24 [00:28<00:00,  1.19s/it, loss=6.56]\n"
     ]
    },
    {
     "name": "stdout",
     "output_type": "stream",
     "text": [
      "Total loss: 162.05517538312623\n"
     ]
    },
    {
     "name": "stderr",
     "output_type": "stream",
     "text": [
      "Epoch [3/25]: 100%|██████████| 24/24 [00:29<00:00,  1.22s/it, loss=6.72]\n"
     ]
    },
    {
     "name": "stdout",
     "output_type": "stream",
     "text": [
      "Total loss: 161.4320316199945\n"
     ]
    },
    {
     "name": "stderr",
     "output_type": "stream",
     "text": [
      "Epoch [4/25]: 100%|██████████| 24/24 [00:29<00:00,  1.21s/it, loss=6.61]\n"
     ]
    },
    {
     "name": "stdout",
     "output_type": "stream",
     "text": [
      "Total loss: 160.61530260572076\n"
     ]
    },
    {
     "name": "stderr",
     "output_type": "stream",
     "text": [
      "Epoch [5/25]: 100%|██████████| 24/24 [00:29<00:00,  1.23s/it, loss=6.75]\n"
     ]
    },
    {
     "name": "stdout",
     "output_type": "stream",
     "text": [
      "Total loss: 160.49818857168844\n"
     ]
    },
    {
     "name": "stderr",
     "output_type": "stream",
     "text": [
      "Epoch [6/25]: 100%|██████████| 24/24 [00:27<00:00,  1.16s/it, loss=6.48]\n"
     ]
    },
    {
     "name": "stdout",
     "output_type": "stream",
     "text": [
      "Total loss: 159.21597929302203\n"
     ]
    },
    {
     "name": "stderr",
     "output_type": "stream",
     "text": [
      "Epoch [7/25]: 100%|██████████| 24/24 [00:29<00:00,  1.23s/it, loss=6.53]\n"
     ]
    },
    {
     "name": "stdout",
     "output_type": "stream",
     "text": [
      "Total loss: 158.49298781063408\n"
     ]
    },
    {
     "name": "stderr",
     "output_type": "stream",
     "text": [
      "Epoch [8/25]: 100%|██████████| 24/24 [00:29<00:00,  1.23s/it, loss=6.67]\n"
     ]
    },
    {
     "name": "stdout",
     "output_type": "stream",
     "text": [
      "Total loss: 157.9914374976818\n"
     ]
    },
    {
     "name": "stderr",
     "output_type": "stream",
     "text": [
      "Epoch [9/25]: 100%|██████████| 24/24 [00:29<00:00,  1.21s/it, loss=6.54]\n"
     ]
    },
    {
     "name": "stdout",
     "output_type": "stream",
     "text": [
      "Total loss: 157.07247172091488\n"
     ]
    },
    {
     "name": "stderr",
     "output_type": "stream",
     "text": [
      "Epoch [10/25]: 100%|██████████| 24/24 [00:29<00:00,  1.22s/it, loss=6.53]\n"
     ]
    },
    {
     "name": "stdout",
     "output_type": "stream",
     "text": [
      "Total loss: 156.39774194547707\n"
     ]
    },
    {
     "name": "stderr",
     "output_type": "stream",
     "text": [
      "Epoch [11/25]: 100%|██████████| 24/24 [00:29<00:00,  1.21s/it, loss=6.46]\n"
     ]
    },
    {
     "name": "stdout",
     "output_type": "stream",
     "text": [
      "Total loss: 155.34073091477953\n"
     ]
    },
    {
     "name": "stderr",
     "output_type": "stream",
     "text": [
      "Epoch [12/25]: 100%|██████████| 24/24 [00:29<00:00,  1.24s/it, loss=6.38]\n"
     ]
    },
    {
     "name": "stdout",
     "output_type": "stream",
     "text": [
      "Total loss: 154.3880054475823\n"
     ]
    },
    {
     "name": "stderr",
     "output_type": "stream",
     "text": [
      "Epoch [13/25]: 100%|██████████| 24/24 [00:28<00:00,  1.21s/it, loss=6.41]\n"
     ]
    },
    {
     "name": "stdout",
     "output_type": "stream",
     "text": [
      "Total loss: 153.30838108634012\n"
     ]
    },
    {
     "name": "stderr",
     "output_type": "stream",
     "text": [
      "Epoch [14/25]: 100%|██████████| 24/24 [00:29<00:00,  1.23s/it, loss=6.21]\n"
     ]
    },
    {
     "name": "stdout",
     "output_type": "stream",
     "text": [
      "Total loss: 151.93667271727463\n"
     ]
    },
    {
     "name": "stderr",
     "output_type": "stream",
     "text": [
      "Epoch [15/25]: 100%|██████████| 24/24 [00:29<00:00,  1.21s/it, loss=6.55]\n"
     ]
    },
    {
     "name": "stdout",
     "output_type": "stream",
     "text": [
      "Total loss: 151.02098990620496\n"
     ]
    },
    {
     "name": "stderr",
     "output_type": "stream",
     "text": [
      "Epoch [16/25]: 100%|██████████| 24/24 [00:29<00:00,  1.23s/it, loss=6]   \n"
     ]
    },
    {
     "name": "stdout",
     "output_type": "stream",
     "text": [
      "Total loss: 149.17499533520564\n"
     ]
    },
    {
     "name": "stderr",
     "output_type": "stream",
     "text": [
      "Epoch [17/25]: 100%|██████████| 24/24 [00:29<00:00,  1.22s/it, loss=6.4] \n"
     ]
    },
    {
     "name": "stdout",
     "output_type": "stream",
     "text": [
      "Total loss: 148.06150480099936\n"
     ]
    },
    {
     "name": "stderr",
     "output_type": "stream",
     "text": [
      "Epoch [18/25]: 100%|██████████| 24/24 [00:29<00:00,  1.24s/it, loss=6.12]\n"
     ]
    },
    {
     "name": "stdout",
     "output_type": "stream",
     "text": [
      "Total loss: 146.48587377006646\n"
     ]
    },
    {
     "name": "stderr",
     "output_type": "stream",
     "text": [
      "Epoch [19/25]: 100%|██████████| 24/24 [00:30<00:00,  1.27s/it, loss=5.59]\n"
     ]
    },
    {
     "name": "stdout",
     "output_type": "stream",
     "text": [
      "Total loss: 144.69974981340056\n"
     ]
    },
    {
     "name": "stderr",
     "output_type": "stream",
     "text": [
      "Epoch [20/25]: 100%|██████████| 24/24 [00:28<00:00,  1.20s/it, loss=5.88]\n"
     ]
    },
    {
     "name": "stdout",
     "output_type": "stream",
     "text": [
      "Total loss: 143.18677429563\n"
     ]
    },
    {
     "name": "stderr",
     "output_type": "stream",
     "text": [
      "Epoch [21/25]: 100%|██████████| 24/24 [00:29<00:00,  1.24s/it, loss=5.48]\n"
     ]
    },
    {
     "name": "stdout",
     "output_type": "stream",
     "text": [
      "Total loss: 141.49274543869979\n"
     ]
    },
    {
     "name": "stderr",
     "output_type": "stream",
     "text": [
      "Epoch [22/25]: 100%|██████████| 24/24 [00:28<00:00,  1.19s/it, loss=6.07]\n"
     ]
    },
    {
     "name": "stdout",
     "output_type": "stream",
     "text": [
      "Total loss: 140.35394918289134\n"
     ]
    },
    {
     "name": "stderr",
     "output_type": "stream",
     "text": [
      "Epoch [23/25]: 100%|██████████| 24/24 [00:28<00:00,  1.21s/it, loss=5.59]\n"
     ]
    },
    {
     "name": "stdout",
     "output_type": "stream",
     "text": [
      "Total loss: 138.4656057018879\n"
     ]
    },
    {
     "name": "stderr",
     "output_type": "stream",
     "text": [
      "Epoch [24/25]:  92%|█████████▏| 22/24 [00:40<00:04,  2.30s/it, loss=5.65]"
     ]
    }
   ],
   "source": [
    "for epoch in range(epochs):\n",
    "    train_bar = tqdm(iterable=train_loader)\n",
    "    total_loss = 0\n",
    "    for i, (x, c) in enumerate(train_bar):\n",
    "        x = x.to(device)\n",
    "        c = c.to(device)\n",
    "        # Get x_hat, mean, logvar,and cls_token from the conditioned_model\n",
    "        x, x_hat, mean, logvar, cls_token = conditioned_model.forward(x, c)\n",
    "        x = x[:, :N_CHANNELS, :, :] # excluding cls_emebdding\n",
    "\n",
    "        # Get vae loss\n",
    "        #print(\"x.size() =\", x.size())\n",
    "        #print(\"x_hat.size() =\", x_hat.size())        \n",
    "        vae_loss = get_vae_loss(x, x_hat, mean, logvar)\n",
    "\n",
    "        # Get cross entropy loss for the cls token\n",
    "        # print(\"cls_token.size() =\", cls_token.size())\n",
    "        # print(\"OHE\", F.one_hot(c, num_classes=10).double().size())\n",
    "        cls_loss = F.cross_entropy(cls_token, F.one_hot(c, num_classes=10).double(), reduction='sum')\n",
    "\n",
    "        # Add the losses as a weighted sum. NB: We weight the cls_loss by 10 here, but feel free to tweak it.\n",
    "        loss = vae_loss + cls_loss  #* 10 # reducing vae_loss instead\n",
    "        total_loss += loss / len(x)\n",
    "        \n",
    "        # Update model parameters based on loss\n",
    "        optimizer.zero_grad()\n",
    "        loss.backward()\n",
    "        optimizer.step()\n",
    "        \n",
    "        train_bar.set_description(f'Epoch [{epoch+1}/{epochs}]')\n",
    "        train_bar.set_postfix(loss = loss.item() / len(x))\n",
    "    losses.append(total_loss.item())\n",
    "    print(\"Total loss:\", losses[-1])"
   ]
  },
  {
   "cell_type": "code",
   "execution_count": null,
   "id": "bfb81793-f4f1-4ea8-92ab-bf29467a753d",
   "metadata": {},
   "outputs": [],
   "source": [
    "# Print convergence plot\n",
    "plt.plot(losses, \"-bo\")"
   ]
  },
  {
   "cell_type": "markdown",
   "id": "9aa13d1f-5fbe-46e5-883a-7e92f1b2c7b7",
   "metadata": {},
   "source": [
    "### Dataset Analysis"
   ]
  },
  {
   "cell_type": "code",
   "execution_count": 20,
   "id": "beb12426-cc72-4222-8698-204cabb661e8",
   "metadata": {
    "tags": []
   },
   "outputs": [
    {
     "ename": "Exception",
     "evalue": "stop",
     "output_type": "error",
     "traceback": [
      "\u001b[0;31m---------------------------------------------------------------------------\u001b[0m",
      "\u001b[0;31mException\u001b[0m                                 Traceback (most recent call last)",
      "Cell \u001b[0;32mIn [20], line 1\u001b[0m\n\u001b[0;32m----> 1\u001b[0m \u001b[38;5;28;01mraise\u001b[39;00m \u001b[38;5;167;01mException\u001b[39;00m(\u001b[38;5;124m\"\u001b[39m\u001b[38;5;124mstop\u001b[39m\u001b[38;5;124m\"\u001b[39m)\n",
      "\u001b[0;31mException\u001b[0m: stop"
     ]
    }
   ],
   "source": [
    "raise Exception(\"stop\")"
   ]
  },
  {
   "cell_type": "code",
   "execution_count": null,
   "id": "af525249-efcf-4cfb-94ca-8e161a56b11c",
   "metadata": {},
   "outputs": [],
   "source": [
    "scores = []\n",
    "for i in range(len(train_set)):\n",
    "    scores.append(train_set[i][1])"
   ]
  },
  {
   "cell_type": "code",
   "execution_count": null,
   "id": "c406c9c3-75a4-4d6a-9df4-b9548cb0e4bb",
   "metadata": {},
   "outputs": [],
   "source": [
    "from collections import Counter\n",
    "Counter(scores)"
   ]
  },
  {
   "cell_type": "code",
   "execution_count": null,
   "id": "ae0cca8f-f1aa-45db-9dbd-266c72c3dc48",
   "metadata": {},
   "outputs": [],
   "source": [
    "# Score = 9: [562, 2984, 3392, 4864]"
   ]
  },
  {
   "cell_type": "code",
   "execution_count": null,
   "id": "fee9f04a-6dbf-4c13-9874-c4c097332e75",
   "metadata": {},
   "outputs": [],
   "source": [
    "i = 4"
   ]
  },
  {
   "cell_type": "code",
   "execution_count": null,
   "id": "f37be981-7415-46a9-a6d1-2efd7a047bb6",
   "metadata": {},
   "outputs": [],
   "source": [
    "print(\"Preference score:\", train_set[i][1])\n",
    "permuted_train_set = train_set[i][0].permute(1,2,0)\n",
    "\n",
    "plt.imshow((permuted_train_set+1)*.5, cmap=plt.get_cmap('gray'))\n",
    "plt.show()\n",
    "#i += 1"
   ]
  },
  {
   "cell_type": "code",
   "execution_count": null,
   "id": "2aef2a17-72c7-45ba-9c80-4b19e1a8bba7",
   "metadata": {},
   "outputs": [],
   "source": [
    "(train_set[0][0]+1)*256/2"
   ]
  }
 ],
 "metadata": {
  "kernelspec": {
   "display_name": "in5310",
   "language": "python",
   "name": "in5310"
  },
  "language_info": {
   "codemirror_mode": {
    "name": "ipython",
    "version": 3
   },
   "file_extension": ".py",
   "mimetype": "text/x-python",
   "name": "python",
   "nbconvert_exporter": "python",
   "pygments_lexer": "ipython3",
   "version": "3.10.4"
  }
 },
 "nbformat": 4,
 "nbformat_minor": 5
}
